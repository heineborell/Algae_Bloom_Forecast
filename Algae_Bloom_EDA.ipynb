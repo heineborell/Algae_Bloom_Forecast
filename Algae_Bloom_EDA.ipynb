{
 "cells": [
  {
   "cell_type": "code",
   "execution_count": 1,
   "id": "0dd5855b",
   "metadata": {},
   "outputs": [],
   "source": [
    "import matplotlib.pyplot as plt\n",
    "import seaborn as sns\n",
    "import numpy as np\n",
    "import pandas as pd\n"
   ]
  },
  {
   "cell_type": "code",
   "execution_count": 2,
   "id": "d4fd0090",
   "metadata": {},
   "outputs": [
    {
     "name": "stderr",
     "output_type": "stream",
     "text": [
      "C:\\Users\\Peter Doze\\AppData\\Local\\Temp\\ipykernel_26160\\1205591160.py:1: DtypeWarning: Columns (18,19,22) have mixed types. Specify dtype option on import or set low_memory=False.\n",
      "  ab = pd.read_csv('habsos_20230714.csv')\n"
     ]
    }
   ],
   "source": [
    "ab = pd.read_csv('habsos_20230714.csv')"
   ]
  },
  {
   "cell_type": "code",
   "execution_count": 3,
   "id": "9ab240df",
   "metadata": {},
   "outputs": [
    {
     "name": "stdout",
     "output_type": "stream",
     "text": [
      "<class 'pandas.core.frame.DataFrame'>\n",
      "RangeIndex: 205552 entries, 0 to 205551\n",
      "Data columns (total 24 columns):\n",
      " #   Column           Non-Null Count   Dtype  \n",
      "---  ------           --------------   -----  \n",
      " 0   STATE_ID         205552 non-null  object \n",
      " 1   DESCRIPTION      205531 non-null  object \n",
      " 2   LATITUDE         205552 non-null  float64\n",
      " 3   LONGITUDE        205552 non-null  float64\n",
      " 4   SAMPLE_DATE      205552 non-null  object \n",
      " 5   SAMPLE_DEPTH     200324 non-null  float64\n",
      " 6   GENUS            205552 non-null  object \n",
      " 7   SPECIES          205552 non-null  object \n",
      " 8   CATEGORY         204696 non-null  object \n",
      " 9   CELLCOUNT        205552 non-null  int64  \n",
      " 10  CELLCOUNT_UNIT   205552 non-null  object \n",
      " 11  CELLCOUNT_QA     205552 non-null  int64  \n",
      " 12  SALINITY         105763 non-null  float64\n",
      " 13  SALINITY_UNIT    105763 non-null  object \n",
      " 14  SALINITY_QA      205552 non-null  int64  \n",
      " 15  WATER_TEMP       104163 non-null  float64\n",
      " 16  WATER_TEMP_UNIT  104182 non-null  object \n",
      " 17  WATER_TEMP_QA    205487 non-null  float64\n",
      " 18  WIND_DIR         1563 non-null    object \n",
      " 19  WIND_DIR_UNIT    1556 non-null    object \n",
      " 20  WIND_DIR_QA      205487 non-null  float64\n",
      " 21  WIND_SPEED       1992 non-null    float64\n",
      " 22  WIND_SPEED_UNIT  1989 non-null    object \n",
      " 23  WIND_SPEED_QA    205487 non-null  float64\n",
      "dtypes: float64(9), int64(3), object(12)\n",
      "memory usage: 37.6+ MB\n"
     ]
    }
   ],
   "source": [
    "ab.info()"
   ]
  },
  {
   "cell_type": "code",
   "execution_count": 4,
   "id": "f82ebc14",
   "metadata": {
    "scrolled": false
   },
   "outputs": [
    {
     "name": "stdout",
     "output_type": "stream",
     "text": [
      "<class 'pandas.core.frame.DataFrame'>\n",
      "Int64Index: 82 entries, 102 to 157380\n",
      "Data columns (total 24 columns):\n",
      " #   Column           Non-Null Count  Dtype  \n",
      "---  ------           --------------  -----  \n",
      " 0   STATE_ID         82 non-null     object \n",
      " 1   DESCRIPTION      82 non-null     object \n",
      " 2   LATITUDE         82 non-null     float64\n",
      " 3   LONGITUDE        82 non-null     float64\n",
      " 4   SAMPLE_DATE      82 non-null     object \n",
      " 5   SAMPLE_DEPTH     82 non-null     float64\n",
      " 6   GENUS            82 non-null     object \n",
      " 7   SPECIES          82 non-null     object \n",
      " 8   CATEGORY         82 non-null     object \n",
      " 9   CELLCOUNT        82 non-null     int64  \n",
      " 10  CELLCOUNT_UNIT   82 non-null     object \n",
      " 11  CELLCOUNT_QA     82 non-null     int64  \n",
      " 12  SALINITY         82 non-null     float64\n",
      " 13  SALINITY_UNIT    82 non-null     object \n",
      " 14  SALINITY_QA      82 non-null     int64  \n",
      " 15  WATER_TEMP       82 non-null     float64\n",
      " 16  WATER_TEMP_UNIT  82 non-null     object \n",
      " 17  WATER_TEMP_QA    82 non-null     float64\n",
      " 18  WIND_DIR         82 non-null     object \n",
      " 19  WIND_DIR_UNIT    82 non-null     object \n",
      " 20  WIND_DIR_QA      82 non-null     float64\n",
      " 21  WIND_SPEED       82 non-null     float64\n",
      " 22  WIND_SPEED_UNIT  82 non-null     object \n",
      " 23  WIND_SPEED_QA    82 non-null     float64\n",
      "dtypes: float64(9), int64(3), object(12)\n",
      "memory usage: 16.0+ KB\n"
     ]
    }
   ],
   "source": [
    "AB = ab.dropna()\n",
    "AB.info()"
   ]
  },
  {
   "cell_type": "code",
   "execution_count": 9,
   "id": "0e08a346",
   "metadata": {},
   "outputs": [
    {
     "data": {
      "text/plain": [
       "array(['TX'], dtype=object)"
      ]
     },
     "execution_count": 9,
     "metadata": {},
     "output_type": "execute_result"
    }
   ],
   "source": [
    "AB['STATE_ID'].unique()"
   ]
  },
  {
   "cell_type": "markdown",
   "id": "07d23647",
   "metadata": {
    "scrolled": true
   },
   "source": [
    "## Lost a lot of rows I need to see what's happening.\n",
    "## <span style=\"color:red\">It looks like Texas is the only state with every variable filled</span>"
   ]
  },
  {
   "cell_type": "code",
   "execution_count": 5,
   "id": "843fcd9d",
   "metadata": {
    "scrolled": false
   },
   "outputs": [
    {
     "data": {
      "text/html": [
       "<div>\n",
       "<style scoped>\n",
       "    .dataframe tbody tr th:only-of-type {\n",
       "        vertical-align: middle;\n",
       "    }\n",
       "\n",
       "    .dataframe tbody tr th {\n",
       "        vertical-align: top;\n",
       "    }\n",
       "\n",
       "    .dataframe thead th {\n",
       "        text-align: right;\n",
       "    }\n",
       "</style>\n",
       "<table border=\"1\" class=\"dataframe\">\n",
       "  <thead>\n",
       "    <tr style=\"text-align: right;\">\n",
       "      <th></th>\n",
       "      <th>STATE_ID</th>\n",
       "      <th>DESCRIPTION</th>\n",
       "      <th>LATITUDE</th>\n",
       "      <th>LONGITUDE</th>\n",
       "      <th>SAMPLE_DATE</th>\n",
       "      <th>SAMPLE_DEPTH</th>\n",
       "      <th>GENUS</th>\n",
       "      <th>SPECIES</th>\n",
       "      <th>CATEGORY</th>\n",
       "      <th>CELLCOUNT</th>\n",
       "      <th>...</th>\n",
       "      <th>SALINITY_QA</th>\n",
       "      <th>WATER_TEMP</th>\n",
       "      <th>WATER_TEMP_UNIT</th>\n",
       "      <th>WATER_TEMP_QA</th>\n",
       "      <th>WIND_DIR</th>\n",
       "      <th>WIND_DIR_UNIT</th>\n",
       "      <th>WIND_DIR_QA</th>\n",
       "      <th>WIND_SPEED</th>\n",
       "      <th>WIND_SPEED_UNIT</th>\n",
       "      <th>WIND_SPEED_QA</th>\n",
       "    </tr>\n",
       "  </thead>\n",
       "  <tbody>\n",
       "    <tr>\n",
       "      <th>102</th>\n",
       "      <td>TX</td>\n",
       "      <td>West End Queen Isabella Memorial Causeway</td>\n",
       "      <td>26.07889</td>\n",
       "      <td>-97.20583</td>\n",
       "      <td>9/28/2011 17:45</td>\n",
       "      <td>0.3048</td>\n",
       "      <td>Karenia</td>\n",
       "      <td>brevis</td>\n",
       "      <td>low</td>\n",
       "      <td>44000</td>\n",
       "      <td>...</td>\n",
       "      <td>1</td>\n",
       "      <td>31.111111</td>\n",
       "      <td>deg. C</td>\n",
       "      <td>5.0</td>\n",
       "      <td>135.0</td>\n",
       "      <td>deg</td>\n",
       "      <td>5.0</td>\n",
       "      <td>5.753897</td>\n",
       "      <td>mph</td>\n",
       "      <td>5.0</td>\n",
       "    </tr>\n",
       "    <tr>\n",
       "      <th>167</th>\n",
       "      <td>TX</td>\n",
       "      <td>West End Queen Isabella Causeway</td>\n",
       "      <td>26.07889</td>\n",
       "      <td>-97.20583</td>\n",
       "      <td>10/19/2011 16:29</td>\n",
       "      <td>0.3048</td>\n",
       "      <td>Karenia</td>\n",
       "      <td>brevis</td>\n",
       "      <td>medium</td>\n",
       "      <td>893000</td>\n",
       "      <td>...</td>\n",
       "      <td>1</td>\n",
       "      <td>21.111111</td>\n",
       "      <td>deg. C</td>\n",
       "      <td>5.0</td>\n",
       "      <td>360.0</td>\n",
       "      <td>deg</td>\n",
       "      <td>5.0</td>\n",
       "      <td>23.015588</td>\n",
       "      <td>mph</td>\n",
       "      <td>5.0</td>\n",
       "    </tr>\n",
       "    <tr>\n",
       "      <th>200</th>\n",
       "      <td>TX</td>\n",
       "      <td>West End Queen Isabella Causeway</td>\n",
       "      <td>26.07889</td>\n",
       "      <td>-97.20583</td>\n",
       "      <td>10/22/2011 17:40</td>\n",
       "      <td>0.9144</td>\n",
       "      <td>Karenia</td>\n",
       "      <td>brevis</td>\n",
       "      <td>medium</td>\n",
       "      <td>594000</td>\n",
       "      <td>...</td>\n",
       "      <td>1</td>\n",
       "      <td>25.600000</td>\n",
       "      <td>deg. C</td>\n",
       "      <td>1.0</td>\n",
       "      <td>135.0</td>\n",
       "      <td>deg</td>\n",
       "      <td>5.0</td>\n",
       "      <td>15.000000</td>\n",
       "      <td>mph</td>\n",
       "      <td>1.0</td>\n",
       "    </tr>\n",
       "    <tr>\n",
       "      <th>220</th>\n",
       "      <td>TX</td>\n",
       "      <td>West End Queen Isabella Causeway</td>\n",
       "      <td>26.07889</td>\n",
       "      <td>-97.20583</td>\n",
       "      <td>10/29/2011 16:25</td>\n",
       "      <td>0.6096</td>\n",
       "      <td>Karenia</td>\n",
       "      <td>brevis</td>\n",
       "      <td>low</td>\n",
       "      <td>22000</td>\n",
       "      <td>...</td>\n",
       "      <td>1</td>\n",
       "      <td>20.000000</td>\n",
       "      <td>deg. C</td>\n",
       "      <td>5.0</td>\n",
       "      <td>337.5</td>\n",
       "      <td>deg</td>\n",
       "      <td>5.0</td>\n",
       "      <td>15.000000</td>\n",
       "      <td>mph</td>\n",
       "      <td>1.0</td>\n",
       "    </tr>\n",
       "    <tr>\n",
       "      <th>396</th>\n",
       "      <td>TX</td>\n",
       "      <td>West End Queen Isabella Causeway</td>\n",
       "      <td>26.07889</td>\n",
       "      <td>-97.20583</td>\n",
       "      <td>11/26/2011 22:35</td>\n",
       "      <td>0.6096</td>\n",
       "      <td>Karenia</td>\n",
       "      <td>brevis</td>\n",
       "      <td>medium</td>\n",
       "      <td>418000</td>\n",
       "      <td>...</td>\n",
       "      <td>1</td>\n",
       "      <td>25.555556</td>\n",
       "      <td>deg. C</td>\n",
       "      <td>5.0</td>\n",
       "      <td>360.0</td>\n",
       "      <td>deg</td>\n",
       "      <td>5.0</td>\n",
       "      <td>3.452338</td>\n",
       "      <td>mph</td>\n",
       "      <td>5.0</td>\n",
       "    </tr>\n",
       "    <tr>\n",
       "      <th>...</th>\n",
       "      <td>...</td>\n",
       "      <td>...</td>\n",
       "      <td>...</td>\n",
       "      <td>...</td>\n",
       "      <td>...</td>\n",
       "      <td>...</td>\n",
       "      <td>...</td>\n",
       "      <td>...</td>\n",
       "      <td>...</td>\n",
       "      <td>...</td>\n",
       "      <td>...</td>\n",
       "      <td>...</td>\n",
       "      <td>...</td>\n",
       "      <td>...</td>\n",
       "      <td>...</td>\n",
       "      <td>...</td>\n",
       "      <td>...</td>\n",
       "      <td>...</td>\n",
       "      <td>...</td>\n",
       "      <td>...</td>\n",
       "      <td>...</td>\n",
       "    </tr>\n",
       "    <tr>\n",
       "      <th>127210</th>\n",
       "      <td>TX</td>\n",
       "      <td>Boca Chica beach at Highway 4</td>\n",
       "      <td>26.01332</td>\n",
       "      <td>-97.15163</td>\n",
       "      <td>10/18/2011 14:37</td>\n",
       "      <td>0.6096</td>\n",
       "      <td>Karenia</td>\n",
       "      <td>brevis</td>\n",
       "      <td>very low</td>\n",
       "      <td>4000</td>\n",
       "      <td>...</td>\n",
       "      <td>1</td>\n",
       "      <td>26.700000</td>\n",
       "      <td>deg. C</td>\n",
       "      <td>1.0</td>\n",
       "      <td>337.5</td>\n",
       "      <td>deg</td>\n",
       "      <td>5.0</td>\n",
       "      <td>17.500000</td>\n",
       "      <td>mph</td>\n",
       "      <td>5.0</td>\n",
       "    </tr>\n",
       "    <tr>\n",
       "      <th>127258</th>\n",
       "      <td>TX</td>\n",
       "      <td>Boca Chica beach at Highway 4</td>\n",
       "      <td>26.01332</td>\n",
       "      <td>-97.15163</td>\n",
       "      <td>10/21/2011 15:13</td>\n",
       "      <td>0.3048</td>\n",
       "      <td>Karenia</td>\n",
       "      <td>brevis</td>\n",
       "      <td>medium</td>\n",
       "      <td>469000</td>\n",
       "      <td>...</td>\n",
       "      <td>1</td>\n",
       "      <td>24.444444</td>\n",
       "      <td>deg. C</td>\n",
       "      <td>5.0</td>\n",
       "      <td>135.0</td>\n",
       "      <td>deg</td>\n",
       "      <td>5.0</td>\n",
       "      <td>17.500000</td>\n",
       "      <td>mph</td>\n",
       "      <td>5.0</td>\n",
       "    </tr>\n",
       "    <tr>\n",
       "      <th>128411</th>\n",
       "      <td>TX</td>\n",
       "      <td>Bahia Grande Southwest Corner</td>\n",
       "      <td>26.01221</td>\n",
       "      <td>-97.28204</td>\n",
       "      <td>9/28/2011 17:25</td>\n",
       "      <td>0.3048</td>\n",
       "      <td>Karenia</td>\n",
       "      <td>brevis</td>\n",
       "      <td>high</td>\n",
       "      <td>10962000</td>\n",
       "      <td>...</td>\n",
       "      <td>1</td>\n",
       "      <td>33.333333</td>\n",
       "      <td>deg. C</td>\n",
       "      <td>5.0</td>\n",
       "      <td>135.0</td>\n",
       "      <td>deg</td>\n",
       "      <td>5.0</td>\n",
       "      <td>2.301559</td>\n",
       "      <td>mph</td>\n",
       "      <td>5.0</td>\n",
       "    </tr>\n",
       "    <tr>\n",
       "      <th>128412</th>\n",
       "      <td>TX</td>\n",
       "      <td>Bahia Grande Southwest Corner</td>\n",
       "      <td>26.01221</td>\n",
       "      <td>-97.28204</td>\n",
       "      <td>10/3/2011 14:40</td>\n",
       "      <td>0.3048</td>\n",
       "      <td>Karenia</td>\n",
       "      <td>brevis</td>\n",
       "      <td>not observed</td>\n",
       "      <td>0</td>\n",
       "      <td>...</td>\n",
       "      <td>1</td>\n",
       "      <td>23.333333</td>\n",
       "      <td>deg. C</td>\n",
       "      <td>5.0</td>\n",
       "      <td>90.0</td>\n",
       "      <td>deg</td>\n",
       "      <td>5.0</td>\n",
       "      <td>5.753897</td>\n",
       "      <td>mph</td>\n",
       "      <td>5.0</td>\n",
       "    </tr>\n",
       "    <tr>\n",
       "      <th>157380</th>\n",
       "      <td>TX</td>\n",
       "      <td>1 mi. S Matagorda Ship Channel Jetty Matagorda</td>\n",
       "      <td>28.41473</td>\n",
       "      <td>-96.31238</td>\n",
       "      <td>10/17/2005 15:02</td>\n",
       "      <td>0.3048</td>\n",
       "      <td>Karenia</td>\n",
       "      <td>brevis</td>\n",
       "      <td>not observed</td>\n",
       "      <td>0</td>\n",
       "      <td>...</td>\n",
       "      <td>1</td>\n",
       "      <td>25.000000</td>\n",
       "      <td>deg. C</td>\n",
       "      <td>1.0</td>\n",
       "      <td>337.5</td>\n",
       "      <td>deg</td>\n",
       "      <td>5.0</td>\n",
       "      <td>12.000000</td>\n",
       "      <td>mph</td>\n",
       "      <td>1.0</td>\n",
       "    </tr>\n",
       "  </tbody>\n",
       "</table>\n",
       "<p>82 rows × 24 columns</p>\n",
       "</div>"
      ],
      "text/plain": [
       "       STATE_ID                                     DESCRIPTION  LATITUDE  \\\n",
       "102          TX       West End Queen Isabella Memorial Causeway  26.07889   \n",
       "167          TX                West End Queen Isabella Causeway  26.07889   \n",
       "200          TX                West End Queen Isabella Causeway  26.07889   \n",
       "220          TX                West End Queen Isabella Causeway  26.07889   \n",
       "396          TX                West End Queen Isabella Causeway  26.07889   \n",
       "...         ...                                             ...       ...   \n",
       "127210       TX                   Boca Chica beach at Highway 4  26.01332   \n",
       "127258       TX                   Boca Chica beach at Highway 4  26.01332   \n",
       "128411       TX                   Bahia Grande Southwest Corner  26.01221   \n",
       "128412       TX                   Bahia Grande Southwest Corner  26.01221   \n",
       "157380       TX  1 mi. S Matagorda Ship Channel Jetty Matagorda  28.41473   \n",
       "\n",
       "        LONGITUDE       SAMPLE_DATE  SAMPLE_DEPTH    GENUS SPECIES  \\\n",
       "102     -97.20583   9/28/2011 17:45        0.3048  Karenia  brevis   \n",
       "167     -97.20583  10/19/2011 16:29        0.3048  Karenia  brevis   \n",
       "200     -97.20583  10/22/2011 17:40        0.9144  Karenia  brevis   \n",
       "220     -97.20583  10/29/2011 16:25        0.6096  Karenia  brevis   \n",
       "396     -97.20583  11/26/2011 22:35        0.6096  Karenia  brevis   \n",
       "...           ...               ...           ...      ...     ...   \n",
       "127210  -97.15163  10/18/2011 14:37        0.6096  Karenia  brevis   \n",
       "127258  -97.15163  10/21/2011 15:13        0.3048  Karenia  brevis   \n",
       "128411  -97.28204   9/28/2011 17:25        0.3048  Karenia  brevis   \n",
       "128412  -97.28204   10/3/2011 14:40        0.3048  Karenia  brevis   \n",
       "157380  -96.31238  10/17/2005 15:02        0.3048  Karenia  brevis   \n",
       "\n",
       "            CATEGORY  CELLCOUNT  ... SALINITY_QA  WATER_TEMP  WATER_TEMP_UNIT  \\\n",
       "102              low      44000  ...           1   31.111111           deg. C   \n",
       "167           medium     893000  ...           1   21.111111           deg. C   \n",
       "200           medium     594000  ...           1   25.600000           deg. C   \n",
       "220              low      22000  ...           1   20.000000           deg. C   \n",
       "396           medium     418000  ...           1   25.555556           deg. C   \n",
       "...              ...        ...  ...         ...         ...              ...   \n",
       "127210      very low       4000  ...           1   26.700000           deg. C   \n",
       "127258        medium     469000  ...           1   24.444444           deg. C   \n",
       "128411          high   10962000  ...           1   33.333333           deg. C   \n",
       "128412  not observed          0  ...           1   23.333333           deg. C   \n",
       "157380  not observed          0  ...           1   25.000000           deg. C   \n",
       "\n",
       "       WATER_TEMP_QA  WIND_DIR  WIND_DIR_UNIT WIND_DIR_QA  WIND_SPEED  \\\n",
       "102              5.0     135.0            deg         5.0    5.753897   \n",
       "167              5.0     360.0            deg         5.0   23.015588   \n",
       "200              1.0     135.0            deg         5.0   15.000000   \n",
       "220              5.0     337.5            deg         5.0   15.000000   \n",
       "396              5.0     360.0            deg         5.0    3.452338   \n",
       "...              ...       ...            ...         ...         ...   \n",
       "127210           1.0     337.5            deg         5.0   17.500000   \n",
       "127258           5.0     135.0            deg         5.0   17.500000   \n",
       "128411           5.0     135.0            deg         5.0    2.301559   \n",
       "128412           5.0      90.0            deg         5.0    5.753897   \n",
       "157380           1.0     337.5            deg         5.0   12.000000   \n",
       "\n",
       "       WIND_SPEED_UNIT WIND_SPEED_QA  \n",
       "102                mph           5.0  \n",
       "167                mph           5.0  \n",
       "200                mph           1.0  \n",
       "220                mph           1.0  \n",
       "396                mph           5.0  \n",
       "...                ...           ...  \n",
       "127210             mph           5.0  \n",
       "127258             mph           5.0  \n",
       "128411             mph           5.0  \n",
       "128412             mph           5.0  \n",
       "157380             mph           1.0  \n",
       "\n",
       "[82 rows x 24 columns]"
      ]
     },
     "execution_count": 5,
     "metadata": {},
     "output_type": "execute_result"
    }
   ],
   "source": [
    "AB"
   ]
  },
  {
   "cell_type": "code",
   "execution_count": 10,
   "id": "06abeec3",
   "metadata": {},
   "outputs": [
    {
     "data": {
      "text/plain": [
       "STATE_ID                         FL\n",
       "DESCRIPTION        Lido Beach; W of\n",
       "LATITUDE                   27.31002\n",
       "LONGITUDE                 -82.57707\n",
       "SAMPLE_DATE         1/28/2016 14:00\n",
       "SAMPLE_DEPTH                    0.5\n",
       "GENUS                       Karenia\n",
       "SPECIES                      brevis\n",
       "CATEGORY                       high\n",
       "CELLCOUNT                  35267000\n",
       "CELLCOUNT_UNIT              cells/L\n",
       "CELLCOUNT_QA                      1\n",
       "SALINITY                        NaN\n",
       "SALINITY_UNIT                   NaN\n",
       "SALINITY_QA                       9\n",
       "WATER_TEMP                      NaN\n",
       "WATER_TEMP_UNIT                 NaN\n",
       "WATER_TEMP_QA                   9.0\n",
       "WIND_DIR                        NaN\n",
       "WIND_DIR_UNIT                   NaN\n",
       "WIND_DIR_QA                     9.0\n",
       "WIND_SPEED                      NaN\n",
       "WIND_SPEED_UNIT                 NaN\n",
       "WIND_SPEED_QA                   9.0\n",
       "Name: 101, dtype: object"
      ]
     },
     "execution_count": 10,
     "metadata": {},
     "output_type": "execute_result"
    }
   ],
   "source": [
    "ab.iloc[101]"
   ]
  },
  {
   "cell_type": "markdown",
   "id": "fa7b8050",
   "metadata": {},
   "source": [
    "## <span style=\"color:red\"> It looks like most rows have a nan somewhere so dropna gets rid of most of everything, need to prioritize features</span>"
   ]
  },
  {
   "cell_type": "markdown",
   "id": "98586ac9",
   "metadata": {},
   "source": [
    "## Online research implies that temperature and salinity are major features of forecasting algae blooms \n",
    "## I want to see what I have left when I just dropna for those columns and don't worry about the wind"
   ]
  },
  {
   "cell_type": "code",
   "execution_count": 8,
   "id": "4b031358",
   "metadata": {},
   "outputs": [
    {
     "name": "stdout",
     "output_type": "stream",
     "text": [
      "<class 'pandas.core.frame.DataFrame'>\n",
      "Int64Index: 94214 entries, 0 to 205546\n",
      "Data columns (total 24 columns):\n",
      " #   Column           Non-Null Count  Dtype  \n",
      "---  ------           --------------  -----  \n",
      " 0   STATE_ID         94214 non-null  object \n",
      " 1   DESCRIPTION      94202 non-null  object \n",
      " 2   LATITUDE         94214 non-null  float64\n",
      " 3   LONGITUDE        94214 non-null  float64\n",
      " 4   SAMPLE_DATE      94214 non-null  object \n",
      " 5   SAMPLE_DEPTH     91609 non-null  float64\n",
      " 6   GENUS            94214 non-null  object \n",
      " 7   SPECIES          94214 non-null  object \n",
      " 8   CATEGORY         93931 non-null  object \n",
      " 9   CELLCOUNT        94214 non-null  int64  \n",
      " 10  CELLCOUNT_UNIT   94214 non-null  object \n",
      " 11  CELLCOUNT_QA     94214 non-null  int64  \n",
      " 12  SALINITY         94214 non-null  float64\n",
      " 13  SALINITY_UNIT    94214 non-null  object \n",
      " 14  SALINITY_QA      94214 non-null  int64  \n",
      " 15  WATER_TEMP       94214 non-null  float64\n",
      " 16  WATER_TEMP_UNIT  94214 non-null  object \n",
      " 17  WATER_TEMP_QA    94214 non-null  float64\n",
      " 18  WIND_DIR         1038 non-null   object \n",
      " 19  WIND_DIR_UNIT    1038 non-null   object \n",
      " 20  WIND_DIR_QA      94214 non-null  float64\n",
      " 21  WIND_SPEED       1607 non-null   float64\n",
      " 22  WIND_SPEED_UNIT  1607 non-null   object \n",
      " 23  WIND_SPEED_QA    94214 non-null  float64\n",
      "dtypes: float64(9), int64(3), object(12)\n",
      "memory usage: 18.0+ MB\n"
     ]
    }
   ],
   "source": [
    "AB2 = ab.dropna(subset=['SALINITY','WATER_TEMP'], how='any')\n",
    "AB2.info()"
   ]
  },
  {
   "cell_type": "markdown",
   "id": "4bcb081a",
   "metadata": {},
   "source": [
    "## <span style=\"color:red\"> Only lost about 100,000 rows when we dropna for temp and salinity, if we stick with this it should be enough data? </span>"
   ]
  },
  {
   "cell_type": "code",
   "execution_count": 12,
   "id": "7714423e",
   "metadata": {
    "scrolled": true
   },
   "outputs": [
    {
     "data": {
      "text/plain": [
       "array(['FL', 'TX', 'AL', 'MS'], dtype=object)"
      ]
     },
     "execution_count": 12,
     "metadata": {},
     "output_type": "execute_result"
    }
   ],
   "source": [
    "AB2['STATE_ID'].unique()"
   ]
  },
  {
   "cell_type": "code",
   "execution_count": 14,
   "id": "c9bfa51b",
   "metadata": {
    "scrolled": true
   },
   "outputs": [
    {
     "data": {
      "text/plain": [
       "STATE_ID\n",
       "AL     1471\n",
       "FL    90323\n",
       "MS      775\n",
       "TX     1633\n",
       "Name: DESCRIPTION, dtype: int64"
      ]
     },
     "execution_count": 14,
     "metadata": {},
     "output_type": "execute_result"
    }
   ],
   "source": [
    "AB2.groupby('STATE_ID')['DESCRIPTION'].count()"
   ]
  },
  {
   "cell_type": "markdown",
   "id": "c90428bf",
   "metadata": {},
   "source": [
    "## <span style=\"color:red\"> Got all the states back when only dropna for temp and salinity</span>"
   ]
  },
  {
   "cell_type": "markdown",
   "id": "77508dfe",
   "metadata": {},
   "source": [
    "## Texas is the only state with at least some rows completely filled, might want to focus on Texas? Try to salvage the wind data in Texas?"
   ]
  },
  {
   "cell_type": "markdown",
   "id": "07fe03e7",
   "metadata": {},
   "source": [
    "## Lets investigate if we can get good timeseries for each region in a state or determine if we have to treat each state as a whole entity. Focus on Texas for now."
   ]
  },
  {
   "cell_type": "code",
   "execution_count": 15,
   "id": "4dea24b8",
   "metadata": {},
   "outputs": [
    {
     "data": {
      "text/plain": [
       "array(['TX'], dtype=object)"
      ]
     },
     "execution_count": 15,
     "metadata": {},
     "output_type": "execute_result"
    }
   ],
   "source": [
    "abtexas = AB2.loc[AB2.STATE_ID=='TX']\n",
    "abtexas['STATE_ID'].unique() #just checking"
   ]
  },
  {
   "cell_type": "code",
   "execution_count": 16,
   "id": "edd4402e",
   "metadata": {
    "scrolled": true
   },
   "outputs": [
    {
     "name": "stdout",
     "output_type": "stream",
     "text": [
      "<class 'pandas.core.frame.DataFrame'>\n",
      "Int64Index: 1633 entries, 102 to 157599\n",
      "Data columns (total 24 columns):\n",
      " #   Column           Non-Null Count  Dtype  \n",
      "---  ------           --------------  -----  \n",
      " 0   STATE_ID         1633 non-null   object \n",
      " 1   DESCRIPTION      1633 non-null   object \n",
      " 2   LATITUDE         1633 non-null   float64\n",
      " 3   LONGITUDE        1633 non-null   float64\n",
      " 4   SAMPLE_DATE      1633 non-null   object \n",
      " 5   SAMPLE_DEPTH     1304 non-null   float64\n",
      " 6   GENUS            1633 non-null   object \n",
      " 7   SPECIES          1633 non-null   object \n",
      " 8   CATEGORY         1633 non-null   object \n",
      " 9   CELLCOUNT        1633 non-null   int64  \n",
      " 10  CELLCOUNT_UNIT   1633 non-null   object \n",
      " 11  CELLCOUNT_QA     1633 non-null   int64  \n",
      " 12  SALINITY         1633 non-null   float64\n",
      " 13  SALINITY_UNIT    1633 non-null   object \n",
      " 14  SALINITY_QA      1633 non-null   int64  \n",
      " 15  WATER_TEMP       1633 non-null   float64\n",
      " 16  WATER_TEMP_UNIT  1633 non-null   object \n",
      " 17  WATER_TEMP_QA    1633 non-null   float64\n",
      " 18  WIND_DIR         512 non-null    object \n",
      " 19  WIND_DIR_UNIT    512 non-null    object \n",
      " 20  WIND_DIR_QA      1633 non-null   float64\n",
      " 21  WIND_SPEED       964 non-null    float64\n",
      " 22  WIND_SPEED_UNIT  964 non-null    object \n",
      " 23  WIND_SPEED_QA    1633 non-null   float64\n",
      "dtypes: float64(9), int64(3), object(12)\n",
      "memory usage: 318.9+ KB\n"
     ]
    }
   ],
   "source": [
    "abtexas.info() #just checking"
   ]
  },
  {
   "cell_type": "code",
   "execution_count": 20,
   "id": "605675c1",
   "metadata": {},
   "outputs": [
    {
     "data": {
      "text/plain": [
       "469"
      ]
     },
     "execution_count": 20,
     "metadata": {},
     "output_type": "execute_result"
    }
   ],
   "source": [
    "len(abtexas.DESCRIPTION.unique())"
   ]
  },
  {
   "cell_type": "code",
   "execution_count": 21,
   "id": "3d20536a",
   "metadata": {
    "scrolled": true
   },
   "outputs": [
    {
     "data": {
      "text/html": [
       "<div>\n",
       "<style scoped>\n",
       "    .dataframe tbody tr th:only-of-type {\n",
       "        vertical-align: middle;\n",
       "    }\n",
       "\n",
       "    .dataframe tbody tr th {\n",
       "        vertical-align: top;\n",
       "    }\n",
       "\n",
       "    .dataframe thead th {\n",
       "        text-align: right;\n",
       "    }\n",
       "</style>\n",
       "<table border=\"1\" class=\"dataframe\">\n",
       "  <thead>\n",
       "    <tr style=\"text-align: right;\">\n",
       "      <th></th>\n",
       "      <th>SALINITY</th>\n",
       "      <th>WATER_TEMP</th>\n",
       "    </tr>\n",
       "    <tr>\n",
       "      <th>DESCRIPTION</th>\n",
       "      <th></th>\n",
       "      <th></th>\n",
       "    </tr>\n",
       "  </thead>\n",
       "  <tbody>\n",
       "    <tr>\n",
       "      <th>0.1 miles north of Rio Grande</th>\n",
       "      <td>1</td>\n",
       "      <td>1</td>\n",
       "    </tr>\n",
       "    <tr>\n",
       "      <th>1 mi N of Beach Access Rd 6, South Padre Island</th>\n",
       "      <td>1</td>\n",
       "      <td>1</td>\n",
       "    </tr>\n",
       "    <tr>\n",
       "      <th>1 mi. S Matagorda Ship Channel Jetty Matagorda</th>\n",
       "      <td>1</td>\n",
       "      <td>1</td>\n",
       "    </tr>\n",
       "    <tr>\n",
       "      <th>1 mi. offshore, 14 mi. north of Brazos Santiago Pass (grid 3066)</th>\n",
       "      <td>1</td>\n",
       "      <td>1</td>\n",
       "    </tr>\n",
       "    <tr>\n",
       "      <th>1 mi. offshore, 6 mi. north of Brazos Santiago Pass (grid 3147)</th>\n",
       "      <td>1</td>\n",
       "      <td>1</td>\n",
       "    </tr>\n",
       "    <tr>\n",
       "      <th>...</th>\n",
       "      <td>...</td>\n",
       "      <td>...</td>\n",
       "    </tr>\n",
       "    <tr>\n",
       "      <th>north part of Aransas Bay</th>\n",
       "      <td>1</td>\n",
       "      <td>1</td>\n",
       "    </tr>\n",
       "    <tr>\n",
       "      <th>offshore Key Allegro</th>\n",
       "      <td>5</td>\n",
       "      <td>5</td>\n",
       "    </tr>\n",
       "    <tr>\n",
       "      <th>offshore Key Allegro #2</th>\n",
       "      <td>1</td>\n",
       "      <td>1</td>\n",
       "    </tr>\n",
       "    <tr>\n",
       "      <th>old Parrot Eyes</th>\n",
       "      <td>3</td>\n",
       "      <td>3</td>\n",
       "    </tr>\n",
       "    <tr>\n",
       "      <th>ripline south of Mud Island</th>\n",
       "      <td>1</td>\n",
       "      <td>1</td>\n",
       "    </tr>\n",
       "  </tbody>\n",
       "</table>\n",
       "<p>469 rows × 2 columns</p>\n",
       "</div>"
      ],
      "text/plain": [
       "                                                    SALINITY  WATER_TEMP\n",
       "DESCRIPTION                                                             \n",
       "0.1 miles north of Rio Grande                              1           1\n",
       "1 mi N of Beach Access Rd 6, South Padre Island            1           1\n",
       "1 mi. S Matagorda Ship Channel Jetty Matagorda             1           1\n",
       "1 mi. offshore, 14 mi. north of Brazos Santiago...         1           1\n",
       "1 mi. offshore, 6 mi. north of Brazos Santiago ...         1           1\n",
       "...                                                      ...         ...\n",
       "north part of Aransas Bay                                  1           1\n",
       "offshore Key Allegro                                       5           5\n",
       "offshore Key Allegro #2                                    1           1\n",
       "old Parrot Eyes                                            3           3\n",
       "ripline south of Mud Island                                1           1\n",
       "\n",
       "[469 rows x 2 columns]"
      ]
     },
     "execution_count": 21,
     "metadata": {},
     "output_type": "execute_result"
    }
   ],
   "source": [
    "abtexas.groupby('DESCRIPTION')[['SALINITY','WATER_TEMP']].count()"
   ]
  },
  {
   "cell_type": "code",
   "execution_count": 25,
   "id": "42b1b1f5",
   "metadata": {},
   "outputs": [
    {
     "data": {
      "image/png": "[encoded data removed]",
      "text/plain": [
       "<Figure size 640x480 with 1 Axes>"
      ]
     },
     "metadata": {},
     "output_type": "display_data"
    }
   ],
   "source": [
    "ax = sns.histplot(data=abtexas, x='DESCRIPTION')\n",
    "ax.set(xticklabels=[]) #turn off labels cause unnecessary and I know every tick is a region in Texas\n",
    "plt.show()"
   ]
  },
  {
   "cell_type": "markdown",
   "id": "e90fa49a",
   "metadata": {},
   "source": [
    "## <span style=\"color:purple\"> It looks like we can get some regions that are relatively big i.e >20 timestamps so we have to consider how many of these \"big\" regions we can get per state? and is this representative of the regions that don't have many timestamps? It might be better to just look at the state as a whole</span>  "
   ]
  },
  {
   "cell_type": "code",
   "execution_count": 29,
   "id": "eaec8b46",
   "metadata": {},
   "outputs": [],
   "source": [
    "abalabama = AB2.loc[AB2.STATE_ID=='AL']\n",
    "abflorida = AB2.loc[AB2.STATE_ID=='FL']\n",
    "abmississippi = AB2.loc[AB2.STATE_ID=='MS']"
   ]
  },
  {
   "cell_type": "code",
   "execution_count": 30,
   "id": "6698d83b",
   "metadata": {},
   "outputs": [
    {
     "data": {
      "image/png": "[encoded data removed]",
      "text/plain": [
       "<Figure size 1200x1200 with 4 Axes>"
      ]
     },
     "metadata": {},
     "output_type": "display_data"
    }
   ],
   "source": [
    "fig, axes = plt.subplots(2,2,figsize=(12,12))\n",
    "\n",
    "sns.histplot(ax=axes[0,0], data=abalabama, x='DESCRIPTION')\n",
    "axes[0,0].set_title('Alabama')\n",
    "axes[0,0].set(xticklabels=[]) \n",
    "\n",
    "sns.histplot(ax=axes[0,1], data=abflorida, x='DESCRIPTION')\n",
    "axes[0,1].set_title('Florida')\n",
    "axes[0,1].set(xticklabels=[])\n",
    "\n",
    "sns.histplot(ax=axes[1,0], data=abmississippi, x='DESCRIPTION')\n",
    "axes[1,0].set_title('Mississippi')\n",
    "axes[1,0].set(xticklabels=[])\n",
    "\n",
    "sns.histplot(ax=axes[1,1], data=abtexas, x='DESCRIPTION')\n",
    "axes[1,1].set_title('Texas')\n",
    "axes[1,1].set(xticklabels=[])\n",
    "plt.show()"
   ]
  },
  {
   "cell_type": "markdown",
   "id": "efa0a789",
   "metadata": {},
   "source": [
    "## I need to see how many of these regions have, lets say >20 timestamps"
   ]
  },
  {
   "cell_type": "code",
   "execution_count": 32,
   "id": "a51c5ff4",
   "metadata": {},
   "outputs": [
    {
     "data": {
      "text/plain": [
       "not observed    444\n",
       "low             426\n",
       "medium          376\n",
       "very low        233\n",
       "high            154\n",
       "Name: CATEGORY, dtype: int64"
      ]
     },
     "execution_count": 32,
     "metadata": {},
     "output_type": "execute_result"
    }
   ],
   "source": [
    "abtexas['CATEGORY'].value_counts()"
   ]
  },
  {
   "cell_type": "code",
   "execution_count": null,
   "id": "0702f837",
   "metadata": {},
   "outputs": [],
   "source": []
  },
  {
   "cell_type": "code",
   "execution_count": null,
   "id": "6a7e3bd9",
   "metadata": {},
   "outputs": [],
   "source": []
  }
 ],
 "metadata": {
  "kernelspec": {
   "display_name": "Python 3 (ipykernel)",
   "language": "python",
   "name": "python3"
  },
  "language_info": {
   "codemirror_mode": {
    "name": "ipython",
    "version": 3
   },
   "file_extension": ".py",
   "mimetype": "text/x-python",
   "name": "python",
   "nbconvert_exporter": "python",
   "pygments_lexer": "ipython3",
   "version": "3.11.4"
  }
 },
 "nbformat": 4,
 "nbformat_minor": 5
}
