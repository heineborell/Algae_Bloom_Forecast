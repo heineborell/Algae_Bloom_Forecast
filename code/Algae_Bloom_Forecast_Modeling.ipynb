{
 "cells": [
  {
   "cell_type": "code",
   "execution_count": 34,
   "id": "609a97c6",
   "metadata": {},
   "outputs": [],
   "source": [
    "import numpy as np\n",
    "import pandas as pd\n",
    "import statsmodels as sm\n",
    "from datetime import datetime, timedelta\n",
    "import matplotlib.pyplot as plt\n",
    "import seaborn as sns\n",
    "from sklearn.model_selection import TimeSeriesSplit\n",
    "from sklearn.metrics import mean_squared_error as mse"
   ]
  },
  {
   "cell_type": "code",
   "execution_count": null,
   "id": "46e4ca0c",
   "metadata": {},
   "outputs": [],
   "source": []
  },
  {
   "cell_type": "code",
   "execution_count": 3,
   "id": "19bffe68",
   "metadata": {},
   "outputs": [
    {
     "name": "stderr",
     "output_type": "stream",
     "text": [
      "C:\\Users\\Peter Doze\\AppData\\Local\\Temp\\ipykernel_27028\\3733098441.py:1: DtypeWarning: Columns (18,19,22) have mixed types. Specify dtype option on import or set low_memory=False.\n",
      "  ab = pd.read_csv('../data/habsos_20230714.csv', parse_dates=['SAMPLE_DATE'])\n"
     ]
    }
   ],
   "source": [
    "ab = pd.read_csv('../data/habsos_20230714.csv', parse_dates=['SAMPLE_DATE'])\n",
    "ab = ab.sort_values(by=['SAMPLE_DATE'])\n",
    "ab = ab.dropna(subset=['SALINITY','WATER_TEMP'], how='any')\n",
    "abfl = ab.loc[ab.STATE_ID=='FL'].copy()"
   ]
  },
  {
   "cell_type": "markdown",
   "id": "7a17abb5",
   "metadata": {},
   "source": [
    "## Prevoius EDA showed that most of the data is from Florida. So we train on Florida and try to predict the others. Previous EDA showed that the data is stationary so we can skip that step"
   ]
  },
  {
   "cell_type": "markdown",
   "id": "b4ca7058",
   "metadata": {},
   "source": [
    "### Recasting the data as Mean Cellcount by Month: a means of trying to standardize the data since the time intervals are irregular. We won't be able to forecast a particular month of algae blooms because the data has no seasonality but we might be able to forecast a month average."
   ]
  },
  {
   "cell_type": "code",
   "execution_count": 4,
   "id": "4a7b0201",
   "metadata": {},
   "outputs": [],
   "source": [
    "abflgroup = abfl.groupby([abfl.SAMPLE_DATE.dt.year, abfl.SAMPLE_DATE.dt.month])\\\n",
    "    [['CELLCOUNT','SALINITY','WATER_TEMP','SAMPLE_DEPTH']].mean()\n"
   ]
  },
  {
   "cell_type": "code",
   "execution_count": 5,
   "id": "d7972fd5",
   "metadata": {},
   "outputs": [],
   "source": [
    "idx = [datetime(i[0],i[1],1) for i in abflgroup.index]"
   ]
  },
  {
   "cell_type": "code",
   "execution_count": 6,
   "id": "6ec0c745",
   "metadata": {},
   "outputs": [],
   "source": [
    "ab2 = abflgroup.copy()\n",
    "ab2.index = idx"
   ]
  },
  {
   "cell_type": "markdown",
   "id": "670a29f4",
   "metadata": {},
   "source": [
    "### Recasting the datat as Rolling Average by 30 days: a means of preparing the raw data by smoothing it and removing (some) noise, and better expose the structure of the processes."
   ]
  },
  {
   "cell_type": "code",
   "execution_count": 7,
   "id": "22694536",
   "metadata": {},
   "outputs": [],
   "source": [
    "delta = timedelta(days=30)\n"
   ]
  },
  {
   "cell_type": "code",
   "execution_count": 8,
   "id": "c0d19973",
   "metadata": {},
   "outputs": [],
   "source": [
    "ab3 = abfl.copy()\n",
    "ab3.set_index('SAMPLE_DATE', inplace=True)\n",
    "cellavg = ab3.CELLCOUNT.rolling(delta, min_periods=1).mean()"
   ]
  },
  {
   "cell_type": "markdown",
   "id": "109b31d3",
   "metadata": {},
   "source": [
    "### Splitting the data into test and train. I want to forecast on the last three years."
   ]
  },
  {
   "cell_type": "code",
   "execution_count": 12,
   "id": "2d837045",
   "metadata": {},
   "outputs": [],
   "source": [
    "trainab2 = ab2.loc[ab2.index < datetime(2020,1,1)].copy()\n",
    "testab2 = ab2.loc[ab2.index >= datetime(2020,1,1)].copy()\n",
    "trainab3 = ab3.loc[ab3.index < datetime(2020,1,1)].copy()\n",
    "testab3 = ab3.loc[ab3.index >= datetime(2020,1,1)].copy()"
   ]
  },
  {
   "cell_type": "markdown",
   "id": "77d5f9cf",
   "metadata": {},
   "source": [
    "## Even though we want to utilize the water temp and salinity, the simple exponential smoothing (for time series with no trend and no seasonality) and ARIMA are built for univariate data, so we will use the water temp and salinity in the random forest model"
   ]
  },
  {
   "cell_type": "markdown",
   "id": "59957c54",
   "metadata": {},
   "source": [
    "### Simple Exponential Smoothing"
   ]
  },
  {
   "cell_type": "markdown",
   "id": "aa49cd73",
   "metadata": {},
   "source": [
    "#### ab2 : Average Per Month"
   ]
  },
  {
   "cell_type": "code",
   "execution_count": 191,
   "id": "247731d6",
   "metadata": {},
   "outputs": [],
   "source": [
    "alpha = np.arange(0,1.05,0.05)\n",
    "splitstrain = 12\n",
    "splitstest = 3"
   ]
  },
  {
   "cell_type": "code",
   "execution_count": 114,
   "id": "4b5c72bc",
   "metadata": {},
   "outputs": [],
   "source": [
    "#rmses = np.zeros((len(alpha), splitstrain))"
   ]
  },
  {
   "cell_type": "code",
   "execution_count": 115,
   "id": "e69e3345",
   "metadata": {
    "scrolled": true
   },
   "outputs": [],
   "source": [
    "#cv = TimeSeriesSplit(splitstrain, test_size=splitstest)\n",
    "#cv.split(trainab2)\n",
    "#for train_index, test_index in cv.split(trainab2):\n",
    "#    a = test_index\n",
    "#    print(train_index,test_index)"
   ]
  },
  {
   "cell_type": "code",
   "execution_count": 116,
   "id": "aa1917be",
   "metadata": {},
   "outputs": [],
   "source": [
    "#a\n",
    "#trainab2.iloc[a]"
   ]
  },
  {
   "cell_type": "code",
   "execution_count": 117,
   "id": "42249172",
   "metadata": {},
   "outputs": [],
   "source": [
    "from statsmodels.tsa.api import SimpleExpSmoothing"
   ]
  },
  {
   "cell_type": "code",
   "execution_count": 118,
   "id": "d75c89fb",
   "metadata": {},
   "outputs": [
    {
     "data": {
      "text/plain": [
       "'def ses(alpha, splitstrain, splitstest, catalog):  \\n    rmses = np.zeros((len(alpha), splitstrain))\\n    cv = TimeSeriesSplit(splitstrain, test_size=splitstest)\\n    c = 0\\n    for train_index, test_index in cv.split(catalog):\\n        tv_tt = catalog.iloc[train_index]\\n        tv_ho = catalog.iloc[test_index]\\n        print(tv_tt.head())\\n        for i, j in enumerate(alpha):\\n            fit = SimpleExpSmoothing(tv_tt.CELLCOUNT.values).fit(smoothing_level=j, optimized=False)\\n            prediction = fit.forecast(len(tv_ho))\\n            rmses[i,c] = mse(tv_ho.CELLCOUNT.values, prediction)\\n\\n            plt.figure(figsize=(10,8))\\n            plt.plot(tv_ho.index, tv_ho.CELLCOUNT, \\'b\\',label=\"Test Data\")\\n            plt.plot(tv_ho.index, prediction, \\'r\\',label=\"Forecast\")\\n            plt.xlabel(\"Date\")\\n            plt.ylabel(\"Cell Count\")\\n            plt.title(f\"Alpha {j} Simple Exp Smoothing Forecast of Per Month Data\")\\n            plt.legend()\\n            plt.savefig(f\"ab2_simpleExpSmoothing/Alpha_{j}_Simple_Exp_Smoothing_Forecast_of_Per_Month_Data.png\")\\n            plt.close()\\n\\n\\n        c += 1\\n        return rmses'"
      ]
     },
     "execution_count": 118,
     "metadata": {},
     "output_type": "execute_result"
    }
   ],
   "source": [
    "#For some reason doesn't like being in a function, I'm goign to ignore for now\n",
    "'''def ses(alpha, splitstrain, splitstest, catalog):  \n",
    "    rmses = np.zeros((len(alpha), splitstrain))\n",
    "    cv = TimeSeriesSplit(splitstrain, test_size=splitstest)\n",
    "    c = 0\n",
    "    for train_index, test_index in cv.split(catalog):\n",
    "        tv_tt = catalog.iloc[train_index]\n",
    "        tv_ho = catalog.iloc[test_index]\n",
    "        print(tv_tt.head())\n",
    "        for i, j in enumerate(alpha):\n",
    "            fit = SimpleExpSmoothing(tv_tt.CELLCOUNT.values).fit(smoothing_level=j, optimized=False)\n",
    "            prediction = fit.forecast(len(tv_ho))\n",
    "            rmses[i,c] = mse(tv_ho.CELLCOUNT.values, prediction)\n",
    "\n",
    "            plt.figure(figsize=(10,8))\n",
    "            plt.plot(tv_ho.index, tv_ho.CELLCOUNT, 'b',label=\"Test Data\")\n",
    "            plt.plot(tv_ho.index, prediction, 'r',label=\"Forecast\")\n",
    "            plt.xlabel(\"Date\")\n",
    "            plt.ylabel(\"Cell Count\")\n",
    "            plt.title(f\"Alpha {j} Simple Exp Smoothing Forecast of Per Month Data\")\n",
    "            plt.legend()\n",
    "            plt.savefig(f\"ab2_simpleExpSmoothing/Alpha_{j}_Simple_Exp_Smoothing_Forecast_of_Per_Month_Data.png\")\n",
    "            plt.close()\n",
    "\n",
    "\n",
    "        c += 1\n",
    "        return rmses'''"
   ]
  },
  {
   "cell_type": "code",
   "execution_count": 192,
   "id": "c16d9760",
   "metadata": {},
   "outputs": [
    {
     "name": "stdout",
     "output_type": "stream",
     "text": [
      "[576 577 578]\n",
      "[579 580 581]\n",
      "[582 583 584]\n",
      "[585 586 587]\n",
      "[588 589 590]\n",
      "[591 592 593]\n",
      "[594 595 596]\n",
      "[597 598 599]\n",
      "[600 601 602]\n",
      "[603 604 605]\n",
      "[606 607 608]\n",
      "[609 610 611]\n"
     ]
    }
   ],
   "source": [
    "rmses = np.zeros((len(alpha), splitstrain))\n",
    "cv = TimeSeriesSplit(splitstrain, test_size=splitstest)\n",
    "c = 0\n",
    "scale=1\n",
    "for train_index, test_index in cv.split(trainab2):\n",
    "    tv_tt = trainab2.iloc[train_index]\n",
    "    tv_ho = trainab2.iloc[test_index]\n",
    "    print(test_index) #making sure the splits are working\n",
    "    for i, j in enumerate(alpha):\n",
    "        fit = SimpleExpSmoothing(tv_tt.CELLCOUNT.values/scale).fit(smoothing_level=j, optimized=False)\n",
    "        prediction = fit.forecast(len(tv_ho))\n",
    "        rmses[i,c] = mse(tv_ho.CELLCOUNT.values/scale, prediction, squared=False)\n",
    "\n",
    "        plt.figure(figsize=(10,8))\n",
    "        plt.plot(tv_ho.index, tv_ho.CELLCOUNT/scale, 'b',label=\"Test Data\")\n",
    "        plt.plot(tv_ho.index, prediction, 'r',label=\"Forecast\")\n",
    "        plt.xlabel(\"Date\")\n",
    "        plt.ylabel(\"Cell Count\")\n",
    "        plt.title(f\"Alpha {j} Simple Exp Smoothing Forecast of Per Month Data\")\n",
    "        plt.legend()\n",
    "        plt.savefig(f\"ab2_simpleExpSmoothing/Alpha_{j}_Column_{c}_Simple_Exp_Smoothing_Forecast_of_Per_Month_Data.png\")\n",
    "        plt.close()\n",
    "\n",
    "    \n",
    "    c += 1\n"
   ]
  },
  {
   "cell_type": "code",
   "execution_count": 94,
   "id": "88a5cf4e",
   "metadata": {},
   "outputs": [],
   "source": [
    "#alpha = np.arange(0,1.05,0.05)\n",
    "#splitstrain = 12\n",
    "#splitstest = 3"
   ]
  },
  {
   "cell_type": "code",
   "execution_count": 95,
   "id": "c28532bf",
   "metadata": {},
   "outputs": [
    {
     "name": "stdout",
     "output_type": "stream",
     "text": [
      "[576 577 578]\n",
      "0\n"
     ]
    }
   ],
   "source": [
    "#rmsessesab2 = ses(alpha, splitstrain, splitstest, trainab2)"
   ]
  },
  {
   "cell_type": "code",
   "execution_count": 193,
   "id": "f7538815",
   "metadata": {},
   "outputs": [
    {
     "name": "stdout",
     "output_type": "stream",
     "text": [
      "Room Mean Square for Alpha 0.0 is 9.299955e+04\n",
      "Room Mean Square for Alpha 0.05 is 1.064801e+05\n",
      "Room Mean Square for Alpha 0.1 is 1.119857e+05\n",
      "Room Mean Square for Alpha 0.15000000000000002 is 1.145844e+05\n",
      "Room Mean Square for Alpha 0.2 is 1.155617e+05\n",
      "Room Mean Square for Alpha 0.25 is 1.155762e+05\n",
      "Room Mean Square for Alpha 0.30000000000000004 is 1.149759e+05\n",
      "Room Mean Square for Alpha 0.35000000000000003 is 1.140200e+05\n",
      "Room Mean Square for Alpha 0.4 is 1.128756e+05\n",
      "Room Mean Square for Alpha 0.45 is 1.116276e+05\n",
      "Room Mean Square for Alpha 0.5 is 1.103123e+05\n",
      "Room Mean Square for Alpha 0.55 is 1.089391e+05\n",
      "Room Mean Square for Alpha 0.6000000000000001 is 1.075038e+05\n",
      "Room Mean Square for Alpha 0.65 is 1.059958e+05\n",
      "Room Mean Square for Alpha 0.7000000000000001 is 1.044034e+05\n",
      "Room Mean Square for Alpha 0.75 is 1.027155e+05\n",
      "Room Mean Square for Alpha 0.8 is 1.009203e+05\n",
      "Room Mean Square for Alpha 0.8500000000000001 is 9.901309e+04\n",
      "Room Mean Square for Alpha 0.9 is 9.699463e+04\n",
      "Room Mean Square for Alpha 0.9500000000000001 is 9.487392e+04\n",
      "Room Mean Square for Alpha 1.0 is 9.273882e+04\n",
      "Best RMS is 9.273882e+04\n"
     ]
    }
   ],
   "source": [
    "sesrms = np.zeros(len(alpha))\n",
    "for i,j in enumerate(alpha):\n",
    "    avg_rms = rmses[i,:].mean()\n",
    "    sesrms[i] = avg_rms\n",
    "    k = \"{:e}\".format(avg_rms)\n",
    "    print(f\"Room Mean Square for Alpha {j} is {k}\")\n",
    "\n",
    "best = \"{:e}\".format(sesrms.min())\n",
    "print(f\"Best RMS is {best}\")"
   ]
  },
  {
   "cell_type": "markdown",
   "id": "9e609c2d",
   "metadata": {},
   "source": [
    "## <span style=color:red> Best Result was Alpha = 1.0 at RMS 9.273882e+04 </span>"
   ]
  },
  {
   "cell_type": "markdown",
   "id": "20c52bc9",
   "metadata": {},
   "source": [
    "#### ab3 : Rolling Average"
   ]
  },
  {
   "cell_type": "code",
   "execution_count": 188,
   "id": "8404a024",
   "metadata": {},
   "outputs": [],
   "source": [
    "alpha = np.arange(0,1.05,0.05)\n",
    "splitstrain = 12\n",
    "splitstest = 5055 #3/15 of the whole same as for ab2"
   ]
  },
  {
   "cell_type": "code",
   "execution_count": 189,
   "id": "d29dd138",
   "metadata": {},
   "outputs": [
    {
     "name": "stdout",
     "output_type": "stream",
     "text": [
      "[15165 15166 15167 ... 20217 20218 20219]\n",
      "[20220 20221 20222 ... 25272 25273 25274]\n",
      "[25275 25276 25277 ... 30327 30328 30329]\n",
      "[30330 30331 30332 ... 35382 35383 35384]\n",
      "[35385 35386 35387 ... 40437 40438 40439]\n",
      "[40440 40441 40442 ... 45492 45493 45494]\n",
      "[45495 45496 45497 ... 50547 50548 50549]\n",
      "[50550 50551 50552 ... 55602 55603 55604]\n",
      "[55605 55606 55607 ... 60657 60658 60659]\n",
      "[60660 60661 60662 ... 65712 65713 65714]\n",
      "[65715 65716 65717 ... 70767 70768 70769]\n",
      "[70770 70771 70772 ... 75822 75823 75824]\n"
     ]
    }
   ],
   "source": [
    "rmses = np.zeros((len(alpha), splitstrain))\n",
    "cv = TimeSeriesSplit(splitstrain, test_size=splitstest)\n",
    "c = 0\n",
    "scale = 1\n",
    "for train_index, test_index in cv.split(trainab3):\n",
    "    tv_tt = trainab3.iloc[train_index]\n",
    "    tv_ho = trainab3.iloc[test_index]\n",
    "    print(test_index) #making sure the splits are working\n",
    "    for i, j in enumerate(alpha):\n",
    "        fit = SimpleExpSmoothing(tv_tt.CELLCOUNT.values/scale).fit(smoothing_level=j, optimized=False)\n",
    "        prediction = fit.forecast(len(tv_ho))\n",
    "        rmses[i,c] = mse(tv_ho.CELLCOUNT.values/scale, prediction, squared=False)\n",
    "\n",
    "        plt.figure(figsize=(10,8))\n",
    "        plt.plot(tv_ho.index, tv_ho.CELLCOUNT/scale, 'b',label=\"Test Data\")\n",
    "        plt.plot(tv_ho.index, prediction, 'r',label=\"Forecast\")\n",
    "        plt.xlabel(\"Date\")\n",
    "        plt.ylabel(\"Cell Count\")\n",
    "        plt.title(f\"Alpha {j} Column {c} Simple Exp Smoothing Forecast of Per Month Data\")\n",
    "        plt.legend()\n",
    "        plt.savefig(f\"ab3_simpleExpSmoothing/Alpha_{j}_Column_{c}_Simple_Exp_Smoothing_Forecast_of_Per_Month_Data.png\")\n",
    "        plt.close()\n",
    "\n",
    "    \n",
    "    c += 1"
   ]
  },
  {
   "cell_type": "code",
   "execution_count": 190,
   "id": "80d69d55",
   "metadata": {},
   "outputs": [
    {
     "name": "stdout",
     "output_type": "stream",
     "text": [
      "Room Mean Square for Alpha 0.0 is 9.338493e+05\n",
      "Room Mean Square for Alpha 0.05 is 9.332373e+05\n",
      "Room Mean Square for Alpha 0.1 is 9.334089e+05\n",
      "Room Mean Square for Alpha 0.15000000000000002 is 9.335069e+05\n",
      "Room Mean Square for Alpha 0.2 is 9.335560e+05\n",
      "Room Mean Square for Alpha 0.25 is 9.335757e+05\n",
      "Room Mean Square for Alpha 0.30000000000000004 is 9.335805e+05\n",
      "Room Mean Square for Alpha 0.35000000000000003 is 9.335785e+05\n",
      "Room Mean Square for Alpha 0.4 is 9.335739e+05\n",
      "Room Mean Square for Alpha 0.45 is 9.335687e+05\n",
      "Room Mean Square for Alpha 0.5 is 9.335638e+05\n",
      "Room Mean Square for Alpha 0.55 is 9.335597e+05\n",
      "Room Mean Square for Alpha 0.6000000000000001 is 9.335568e+05\n",
      "Room Mean Square for Alpha 0.65 is 9.335552e+05\n",
      "Room Mean Square for Alpha 0.7000000000000001 is 9.335549e+05\n",
      "Room Mean Square for Alpha 0.75 is 9.335561e+05\n",
      "Room Mean Square for Alpha 0.8 is 9.335586e+05\n",
      "Room Mean Square for Alpha 0.8500000000000001 is 9.335624e+05\n",
      "Room Mean Square for Alpha 0.9 is 9.335671e+05\n",
      "Room Mean Square for Alpha 0.9500000000000001 is 9.335726e+05\n",
      "Room Mean Square for Alpha 1.0 is 9.335785e+05\n",
      "Best RMS is 9.332373e+05\n"
     ]
    }
   ],
   "source": [
    "sesrms = np.zeros(len(alpha))\n",
    "for i,j in enumerate(alpha):\n",
    "    avg_rms = rmses[i,:].mean()\n",
    "    sesrms[i] = avg_rms\n",
    "    k = \"{:e}\".format(avg_rms)\n",
    "    print(f\"Room Mean Square for Alpha {j} is {k}\")\n",
    "\n",
    "best = \"{:e}\".format(sesrms.min())\n",
    "print(f\"Best RMS is {best}\")"
   ]
  },
  {
   "cell_type": "markdown",
   "id": "f6f59deb",
   "metadata": {},
   "source": [
    "## <span style=color:red> Best Result was Alpha = 0.05 at RMS 9.332373e+05 </span>"
   ]
  },
  {
   "cell_type": "markdown",
   "id": "b0c1bca1",
   "metadata": {},
   "source": [
    "### ARIMA"
   ]
  },
  {
   "cell_type": "markdown",
   "id": "c15b2877",
   "metadata": {},
   "source": [
    "#### ab2 : Average Per Month"
   ]
  },
  {
   "cell_type": "code",
   "execution_count": 137,
   "id": "50524b3d",
   "metadata": {},
   "outputs": [
    {
     "data": {
      "text/plain": [
       "array([[[0., 0., 0., 0.],\n",
       "        [0., 0., 0., 0.],\n",
       "        [0., 0., 0., 0.],\n",
       "        [0., 0., 0., 0.]],\n",
       "\n",
       "       [[0., 0., 0., 0.],\n",
       "        [0., 0., 0., 0.],\n",
       "        [0., 0., 0., 0.],\n",
       "        [0., 0., 0., 0.]],\n",
       "\n",
       "       [[0., 0., 0., 0.],\n",
       "        [0., 0., 0., 0.],\n",
       "        [0., 0., 0., 0.],\n",
       "        [0., 0., 0., 0.]],\n",
       "\n",
       "       [[0., 0., 0., 0.],\n",
       "        [0., 0., 0., 0.],\n",
       "        [0., 0., 0., 0.],\n",
       "        [0., 0., 0., 0.]],\n",
       "\n",
       "       [[0., 0., 0., 0.],\n",
       "        [0., 0., 0., 0.],\n",
       "        [0., 0., 0., 0.],\n",
       "        [0., 0., 0., 0.]],\n",
       "\n",
       "       [[0., 0., 0., 0.],\n",
       "        [0., 0., 0., 0.],\n",
       "        [0., 0., 0., 0.],\n",
       "        [0., 0., 0., 0.]],\n",
       "\n",
       "       [[0., 0., 0., 0.],\n",
       "        [0., 0., 0., 0.],\n",
       "        [0., 0., 0., 0.],\n",
       "        [0., 0., 0., 0.]],\n",
       "\n",
       "       [[0., 0., 0., 0.],\n",
       "        [0., 0., 0., 0.],\n",
       "        [0., 0., 0., 0.],\n",
       "        [0., 0., 0., 0.]],\n",
       "\n",
       "       [[0., 0., 0., 0.],\n",
       "        [0., 0., 0., 0.],\n",
       "        [0., 0., 0., 0.],\n",
       "        [0., 0., 0., 0.]],\n",
       "\n",
       "       [[0., 0., 0., 0.],\n",
       "        [0., 0., 0., 0.],\n",
       "        [0., 0., 0., 0.],\n",
       "        [0., 0., 0., 0.]]])"
      ]
     },
     "execution_count": 137,
     "metadata": {},
     "output_type": "execute_result"
    }
   ],
   "source": [
    "np.zeros((10,4,4))"
   ]
  },
  {
   "cell_type": "code",
   "execution_count": null,
   "id": "c932c672",
   "metadata": {},
   "outputs": [],
   "source": []
  },
  {
   "cell_type": "code",
   "execution_count": null,
   "id": "5be791be",
   "metadata": {},
   "outputs": [],
   "source": []
  },
  {
   "cell_type": "code",
   "execution_count": null,
   "id": "19d0cbc6",
   "metadata": {},
   "outputs": [],
   "source": []
  },
  {
   "cell_type": "code",
   "execution_count": null,
   "id": "95e154d8",
   "metadata": {},
   "outputs": [],
   "source": []
  },
  {
   "cell_type": "code",
   "execution_count": null,
   "id": "05dfe8e8",
   "metadata": {},
   "outputs": [],
   "source": []
  },
  {
   "cell_type": "code",
   "execution_count": null,
   "id": "dab28b0c",
   "metadata": {},
   "outputs": [],
   "source": []
  },
  {
   "cell_type": "code",
   "execution_count": null,
   "id": "d6f2e41f",
   "metadata": {},
   "outputs": [],
   "source": []
  },
  {
   "cell_type": "code",
   "execution_count": null,
   "id": "bc9a8c7f",
   "metadata": {},
   "outputs": [],
   "source": []
  },
  {
   "cell_type": "code",
   "execution_count": null,
   "id": "fef50449",
   "metadata": {},
   "outputs": [],
   "source": []
  },
  {
   "cell_type": "code",
   "execution_count": 138,
   "id": "07f36e52",
   "metadata": {},
   "outputs": [],
   "source": [
    "from sklearn.ensemble import RandomForestRegressor"
   ]
  },
  {
   "cell_type": "code",
   "execution_count": 139,
   "id": "47c07601",
   "metadata": {},
   "outputs": [],
   "source": [
    "model = RandomForestRegressor()"
   ]
  },
  {
   "cell_type": "code",
   "execution_count": 152,
   "id": "f6ff17f7",
   "metadata": {},
   "outputs": [],
   "source": [
    "trainab2.columns\n",
    "treeab2 = trainab2.copy()\n",
    "treeab2test = testab2.copy()"
   ]
  },
  {
   "cell_type": "code",
   "execution_count": 158,
   "id": "9c8c0617",
   "metadata": {},
   "outputs": [],
   "source": [
    "treeab2.reset_index(inplace=True)\n",
    "treeab2test.reset_index(inplace=True)"
   ]
  },
  {
   "cell_type": "code",
   "execution_count": 165,
   "id": "7a453fa4",
   "metadata": {},
   "outputs": [],
   "source": [
    "treeab2['day'] = treeab2['index'].dt.day.astype(int)\n",
    "treeab2['month'] = treeab2['index'].dt.month.astype(int)\n",
    "treeab2['year'] = treeab2['index'].dt.year.astype(int)"
   ]
  },
  {
   "cell_type": "code",
   "execution_count": 167,
   "id": "a8648ac3",
   "metadata": {},
   "outputs": [],
   "source": [
    "treeab2test['day'] = treeab2test['index'].dt.day.astype(int)\n",
    "treeab2test['month'] = treeab2test['index'].dt.month.astype(int)\n",
    "treeab2test['year'] = treeab2test['index'].dt.year.astype(int)"
   ]
  },
  {
   "cell_type": "code",
   "execution_count": null,
   "id": "40e03f9e",
   "metadata": {},
   "outputs": [],
   "source": []
  },
  {
   "cell_type": "code",
   "execution_count": null,
   "id": "be0aba81",
   "metadata": {},
   "outputs": [],
   "source": []
  },
  {
   "cell_type": "code",
   "execution_count": 183,
   "id": "1de08447",
   "metadata": {},
   "outputs": [],
   "source": [
    "scale = 1\n",
    "target = treeab2['CELLCOUNT']/scale\n",
    "features = treeab2[['SALINITY', 'WATER_TEMP', 'SAMPLE_DEPTH','day','month','year']]"
   ]
  },
  {
   "cell_type": "code",
   "execution_count": 184,
   "id": "da52e603",
   "metadata": {},
   "outputs": [
    {
     "data": {
      "text/html": [
       "<style>#sk-container-id-3 {color: black;}#sk-container-id-3 pre{padding: 0;}#sk-container-id-3 div.sk-toggleable {background-color: white;}#sk-container-id-3 label.sk-toggleable__label {cursor: pointer;display: block;width: 100%;margin-bottom: 0;padding: 0.3em;box-sizing: border-box;text-align: center;}#sk-container-id-3 label.sk-toggleable__label-arrow:before {content: \"▸\";float: left;margin-right: 0.25em;color: #696969;}#sk-container-id-3 label.sk-toggleable__label-arrow:hover:before {color: black;}#sk-container-id-3 div.sk-estimator:hover label.sk-toggleable__label-arrow:before {color: black;}#sk-container-id-3 div.sk-toggleable__content {max-height: 0;max-width: 0;overflow: hidden;text-align: left;background-color: #f0f8ff;}#sk-container-id-3 div.sk-toggleable__content pre {margin: 0.2em;color: black;border-radius: 0.25em;background-color: #f0f8ff;}#sk-container-id-3 input.sk-toggleable__control:checked~div.sk-toggleable__content {max-height: 200px;max-width: 100%;overflow: auto;}#sk-container-id-3 input.sk-toggleable__control:checked~label.sk-toggleable__label-arrow:before {content: \"▾\";}#sk-container-id-3 div.sk-estimator input.sk-toggleable__control:checked~label.sk-toggleable__label {background-color: #d4ebff;}#sk-container-id-3 div.sk-label input.sk-toggleable__control:checked~label.sk-toggleable__label {background-color: #d4ebff;}#sk-container-id-3 input.sk-hidden--visually {border: 0;clip: rect(1px 1px 1px 1px);clip: rect(1px, 1px, 1px, 1px);height: 1px;margin: -1px;overflow: hidden;padding: 0;position: absolute;width: 1px;}#sk-container-id-3 div.sk-estimator {font-family: monospace;background-color: #f0f8ff;border: 1px dotted black;border-radius: 0.25em;box-sizing: border-box;margin-bottom: 0.5em;}#sk-container-id-3 div.sk-estimator:hover {background-color: #d4ebff;}#sk-container-id-3 div.sk-parallel-item::after {content: \"\";width: 100%;border-bottom: 1px solid gray;flex-grow: 1;}#sk-container-id-3 div.sk-label:hover label.sk-toggleable__label {background-color: #d4ebff;}#sk-container-id-3 div.sk-serial::before {content: \"\";position: absolute;border-left: 1px solid gray;box-sizing: border-box;top: 0;bottom: 0;left: 50%;z-index: 0;}#sk-container-id-3 div.sk-serial {display: flex;flex-direction: column;align-items: center;background-color: white;padding-right: 0.2em;padding-left: 0.2em;position: relative;}#sk-container-id-3 div.sk-item {position: relative;z-index: 1;}#sk-container-id-3 div.sk-parallel {display: flex;align-items: stretch;justify-content: center;background-color: white;position: relative;}#sk-container-id-3 div.sk-item::before, #sk-container-id-3 div.sk-parallel-item::before {content: \"\";position: absolute;border-left: 1px solid gray;box-sizing: border-box;top: 0;bottom: 0;left: 50%;z-index: -1;}#sk-container-id-3 div.sk-parallel-item {display: flex;flex-direction: column;z-index: 1;position: relative;background-color: white;}#sk-container-id-3 div.sk-parallel-item:first-child::after {align-self: flex-end;width: 50%;}#sk-container-id-3 div.sk-parallel-item:last-child::after {align-self: flex-start;width: 50%;}#sk-container-id-3 div.sk-parallel-item:only-child::after {width: 0;}#sk-container-id-3 div.sk-dashed-wrapped {border: 1px dashed gray;margin: 0 0.4em 0.5em 0.4em;box-sizing: border-box;padding-bottom: 0.4em;background-color: white;}#sk-container-id-3 div.sk-label label {font-family: monospace;font-weight: bold;display: inline-block;line-height: 1.2em;}#sk-container-id-3 div.sk-label-container {text-align: center;}#sk-container-id-3 div.sk-container {/* jupyter's `normalize.less` sets `[hidden] { display: none; }` but bootstrap.min.css set `[hidden] { display: none !important; }` so we also need the `!important` here to be able to override the default hidden behavior on the sphinx rendered scikit-learn.org. See: https://github.com/scikit-learn/scikit-learn/issues/21755 */display: inline-block !important;position: relative;}#sk-container-id-3 div.sk-text-repr-fallback {display: none;}</style><div id=\"sk-container-id-3\" class=\"sk-top-container\"><div class=\"sk-text-repr-fallback\"><pre>RandomForestRegressor()</pre><b>In a Jupyter environment, please rerun this cell to show the HTML representation or trust the notebook. <br />On GitHub, the HTML representation is unable to render, please try loading this page with nbviewer.org.</b></div><div class=\"sk-container\" hidden><div class=\"sk-item\"><div class=\"sk-estimator sk-toggleable\"><input class=\"sk-toggleable__control sk-hidden--visually\" id=\"sk-estimator-id-3\" type=\"checkbox\" checked><label for=\"sk-estimator-id-3\" class=\"sk-toggleable__label sk-toggleable__label-arrow\">RandomForestRegressor</label><div class=\"sk-toggleable__content\"><pre>RandomForestRegressor()</pre></div></div></div></div></div>"
      ],
      "text/plain": [
       "RandomForestRegressor()"
      ]
     },
     "execution_count": 184,
     "metadata": {},
     "output_type": "execute_result"
    }
   ],
   "source": [
    "model.fit(features, target)"
   ]
  },
  {
   "cell_type": "code",
   "execution_count": 185,
   "id": "a4065700",
   "metadata": {},
   "outputs": [],
   "source": [
    "predictiontree = model.predict(treeab2test[['SALINITY', 'WATER_TEMP', 'SAMPLE_DEPTH','day','month','year']])"
   ]
  },
  {
   "cell_type": "code",
   "execution_count": 186,
   "id": "bfe1ebd3",
   "metadata": {},
   "outputs": [
    {
     "data": {
      "image/png": "[encoded data removed]",
      "text/plain": [
       "<Figure size 640x480 with 1 Axes>"
      ]
     },
     "metadata": {},
     "output_type": "display_data"
    }
   ],
   "source": [
    "plt.plot(testab2.index,testab2.CELLCOUNT/scale,'b',label='Test Data')\n",
    "plt.plot(testab2.index, predictiontree,'r',label='Forecast')\n",
    "plt.xlabel('Date')\n",
    "plt.ylabel('Cell Count')\n",
    "plt.show()\n",
    "plt.close()"
   ]
  },
  {
   "cell_type": "code",
   "execution_count": 187,
   "id": "c830bee5",
   "metadata": {},
   "outputs": [
    {
     "name": "stdout",
     "output_type": "stream",
     "text": [
      "Root Mean Square is  2.454837e+05\n"
     ]
    }
   ],
   "source": [
    "print('Root Mean Square is ', \"{:e}\".format(mse(testab2.CELLCOUNT, predictiontree, squared=False)))"
   ]
  },
  {
   "cell_type": "code",
   "execution_count": 195,
   "id": "811f31cd",
   "metadata": {},
   "outputs": [],
   "source": [
    "treeab3 = trainab3.copy()\n",
    "treeab3test = testab3.copy()"
   ]
  },
  {
   "cell_type": "code",
   "execution_count": 196,
   "id": "ce85d10d",
   "metadata": {},
   "outputs": [
    {
     "data": {
      "text/html": [
       "<div>\n",
       "<style scoped>\n",
       "    .dataframe tbody tr th:only-of-type {\n",
       "        vertical-align: middle;\n",
       "    }\n",
       "\n",
       "    .dataframe tbody tr th {\n",
       "        vertical-align: top;\n",
       "    }\n",
       "\n",
       "    .dataframe thead th {\n",
       "        text-align: right;\n",
       "    }\n",
       "</style>\n",
       "<table border=\"1\" class=\"dataframe\">\n",
       "  <thead>\n",
       "    <tr style=\"text-align: right;\">\n",
       "      <th></th>\n",
       "      <th>SAMPLE_DATE</th>\n",
       "      <th>STATE_ID</th>\n",
       "      <th>DESCRIPTION</th>\n",
       "      <th>LATITUDE</th>\n",
       "      <th>LONGITUDE</th>\n",
       "      <th>SAMPLE_DEPTH</th>\n",
       "      <th>GENUS</th>\n",
       "      <th>SPECIES</th>\n",
       "      <th>CATEGORY</th>\n",
       "      <th>CELLCOUNT</th>\n",
       "      <th>...</th>\n",
       "      <th>SALINITY_QA</th>\n",
       "      <th>WATER_TEMP</th>\n",
       "      <th>WATER_TEMP_UNIT</th>\n",
       "      <th>WATER_TEMP_QA</th>\n",
       "      <th>WIND_DIR</th>\n",
       "      <th>WIND_DIR_UNIT</th>\n",
       "      <th>WIND_DIR_QA</th>\n",
       "      <th>WIND_SPEED</th>\n",
       "      <th>WIND_SPEED_UNIT</th>\n",
       "      <th>WIND_SPEED_QA</th>\n",
       "    </tr>\n",
       "  </thead>\n",
       "  <tbody>\n",
       "    <tr>\n",
       "      <th>0</th>\n",
       "      <td>1954-02-05 08:55:00</td>\n",
       "      <td>FL</td>\n",
       "      <td>Station A 45; USFWS 1954-57</td>\n",
       "      <td>27.2167</td>\n",
       "      <td>-82.5417</td>\n",
       "      <td>0.5</td>\n",
       "      <td>Karenia</td>\n",
       "      <td>brevis</td>\n",
       "      <td>not observed</td>\n",
       "      <td>0</td>\n",
       "      <td>...</td>\n",
       "      <td>1</td>\n",
       "      <td>18.0</td>\n",
       "      <td>deg. C</td>\n",
       "      <td>1.0</td>\n",
       "      <td>NaN</td>\n",
       "      <td>NaN</td>\n",
       "      <td>9.0</td>\n",
       "      <td>NaN</td>\n",
       "      <td>NaN</td>\n",
       "      <td>9.0</td>\n",
       "    </tr>\n",
       "    <tr>\n",
       "      <th>1</th>\n",
       "      <td>1954-02-05 09:35:00</td>\n",
       "      <td>FL</td>\n",
       "      <td>Station A 50; USFWS 1954-57</td>\n",
       "      <td>27.1500</td>\n",
       "      <td>-82.5083</td>\n",
       "      <td>0.5</td>\n",
       "      <td>Karenia</td>\n",
       "      <td>brevis</td>\n",
       "      <td>not observed</td>\n",
       "      <td>0</td>\n",
       "      <td>...</td>\n",
       "      <td>1</td>\n",
       "      <td>18.2</td>\n",
       "      <td>deg. C</td>\n",
       "      <td>1.0</td>\n",
       "      <td>NaN</td>\n",
       "      <td>NaN</td>\n",
       "      <td>9.0</td>\n",
       "      <td>NaN</td>\n",
       "      <td>NaN</td>\n",
       "      <td>9.0</td>\n",
       "    </tr>\n",
       "    <tr>\n",
       "      <th>2</th>\n",
       "      <td>1954-02-05 11:35:00</td>\n",
       "      <td>FL</td>\n",
       "      <td>Station A 38; USFWS 1954-57</td>\n",
       "      <td>27.3533</td>\n",
       "      <td>-82.6450</td>\n",
       "      <td>0.5</td>\n",
       "      <td>Karenia</td>\n",
       "      <td>brevis</td>\n",
       "      <td>not observed</td>\n",
       "      <td>0</td>\n",
       "      <td>...</td>\n",
       "      <td>1</td>\n",
       "      <td>18.5</td>\n",
       "      <td>deg. C</td>\n",
       "      <td>1.0</td>\n",
       "      <td>NaN</td>\n",
       "      <td>NaN</td>\n",
       "      <td>9.0</td>\n",
       "      <td>NaN</td>\n",
       "      <td>NaN</td>\n",
       "      <td>9.0</td>\n",
       "    </tr>\n",
       "    <tr>\n",
       "      <th>3</th>\n",
       "      <td>1954-02-05 11:52:00</td>\n",
       "      <td>FL</td>\n",
       "      <td>Station A 37; USFWS 1954-57</td>\n",
       "      <td>27.3417</td>\n",
       "      <td>-82.7167</td>\n",
       "      <td>0.5</td>\n",
       "      <td>Karenia</td>\n",
       "      <td>brevis</td>\n",
       "      <td>not observed</td>\n",
       "      <td>0</td>\n",
       "      <td>...</td>\n",
       "      <td>1</td>\n",
       "      <td>18.5</td>\n",
       "      <td>deg. C</td>\n",
       "      <td>1.0</td>\n",
       "      <td>NaN</td>\n",
       "      <td>NaN</td>\n",
       "      <td>9.0</td>\n",
       "      <td>NaN</td>\n",
       "      <td>NaN</td>\n",
       "      <td>9.0</td>\n",
       "    </tr>\n",
       "    <tr>\n",
       "      <th>4</th>\n",
       "      <td>1954-02-05 12:10:00</td>\n",
       "      <td>FL</td>\n",
       "      <td>Station A 41; USFWS 1954-57</td>\n",
       "      <td>27.3083</td>\n",
       "      <td>-82.5967</td>\n",
       "      <td>0.5</td>\n",
       "      <td>Karenia</td>\n",
       "      <td>brevis</td>\n",
       "      <td>not observed</td>\n",
       "      <td>0</td>\n",
       "      <td>...</td>\n",
       "      <td>1</td>\n",
       "      <td>18.6</td>\n",
       "      <td>deg. C</td>\n",
       "      <td>1.0</td>\n",
       "      <td>NaN</td>\n",
       "      <td>NaN</td>\n",
       "      <td>9.0</td>\n",
       "      <td>NaN</td>\n",
       "      <td>NaN</td>\n",
       "      <td>9.0</td>\n",
       "    </tr>\n",
       "  </tbody>\n",
       "</table>\n",
       "<p>5 rows × 24 columns</p>\n",
       "</div>"
      ],
      "text/plain": [
       "          SAMPLE_DATE STATE_ID                  DESCRIPTION  LATITUDE  \\\n",
       "0 1954-02-05 08:55:00       FL  Station A 45; USFWS 1954-57   27.2167   \n",
       "1 1954-02-05 09:35:00       FL  Station A 50; USFWS 1954-57   27.1500   \n",
       "2 1954-02-05 11:35:00       FL  Station A 38; USFWS 1954-57   27.3533   \n",
       "3 1954-02-05 11:52:00       FL  Station A 37; USFWS 1954-57   27.3417   \n",
       "4 1954-02-05 12:10:00       FL  Station A 41; USFWS 1954-57   27.3083   \n",
       "\n",
       "   LONGITUDE  SAMPLE_DEPTH    GENUS SPECIES      CATEGORY  CELLCOUNT  ...  \\\n",
       "0   -82.5417           0.5  Karenia  brevis  not observed          0  ...   \n",
       "1   -82.5083           0.5  Karenia  brevis  not observed          0  ...   \n",
       "2   -82.6450           0.5  Karenia  brevis  not observed          0  ...   \n",
       "3   -82.7167           0.5  Karenia  brevis  not observed          0  ...   \n",
       "4   -82.5967           0.5  Karenia  brevis  not observed          0  ...   \n",
       "\n",
       "  SALINITY_QA  WATER_TEMP  WATER_TEMP_UNIT WATER_TEMP_QA  WIND_DIR  \\\n",
       "0           1        18.0           deg. C           1.0       NaN   \n",
       "1           1        18.2           deg. C           1.0       NaN   \n",
       "2           1        18.5           deg. C           1.0       NaN   \n",
       "3           1        18.5           deg. C           1.0       NaN   \n",
       "4           1        18.6           deg. C           1.0       NaN   \n",
       "\n",
       "   WIND_DIR_UNIT WIND_DIR_QA  WIND_SPEED WIND_SPEED_UNIT WIND_SPEED_QA  \n",
       "0            NaN         9.0         NaN             NaN           9.0  \n",
       "1            NaN         9.0         NaN             NaN           9.0  \n",
       "2            NaN         9.0         NaN             NaN           9.0  \n",
       "3            NaN         9.0         NaN             NaN           9.0  \n",
       "4            NaN         9.0         NaN             NaN           9.0  \n",
       "\n",
       "[5 rows x 24 columns]"
      ]
     },
     "execution_count": 196,
     "metadata": {},
     "output_type": "execute_result"
    }
   ],
   "source": [
    "treeab3.reset_index(inplace=True)\n",
    "treeab3test.reset_index(inplace=True)\n",
    "\n",
    "treeab3.head()"
   ]
  },
  {
   "cell_type": "code",
   "execution_count": 198,
   "id": "fdba8a4e",
   "metadata": {},
   "outputs": [],
   "source": [
    "treeab3['day'] = treeab3['SAMPLE_DATE'].dt.day.astype(int)\n",
    "treeab3['month'] = treeab3['SAMPLE_DATE'].dt.month.astype(int)\n",
    "treeab3['year'] = treeab3['SAMPLE_DATE'].dt.year.astype(int)"
   ]
  },
  {
   "cell_type": "code",
   "execution_count": 199,
   "id": "d6ad42bf",
   "metadata": {},
   "outputs": [],
   "source": [
    "treeab3test['day'] = treeab3test['SAMPLE_DATE'].dt.day.astype(int)\n",
    "treeab3test['month'] = treeab3test['SAMPLE_DATE'].dt.month.astype(int)\n",
    "treeab3test['year'] = treeab3test['SAMPLE_DATE'].dt.year.astype(int)"
   ]
  },
  {
   "cell_type": "code",
   "execution_count": 211,
   "id": "d6c75f65",
   "metadata": {},
   "outputs": [],
   "source": [
    "scale = 1\n",
    "target = treeab3['CELLCOUNT']/scale\n",
    "features = treeab3[['SALINITY', 'WATER_TEMP', 'SAMPLE_DEPTH','day','month','year']]"
   ]
  },
  {
   "cell_type": "code",
   "execution_count": 214,
   "id": "5532c3a2",
   "metadata": {},
   "outputs": [
    {
     "name": "stderr",
     "output_type": "stream",
     "text": [
      "C:\\Users\\Peter Doze\\AppData\\Local\\Temp\\ipykernel_27028\\1831496973.py:2: FutureWarning: In a future version of pandas all arguments of DataFrame.any and Series.any will be keyword-only.\n",
      "  inds = pd.isnull(features).any(1)[0]\n"
     ]
    }
   ],
   "source": [
    "#THERES NA IN DATTIME DATA HAVE TO DEAL WITH\n",
    "inds = pd.isnull(features).any(1)[0]"
   ]
  },
  {
   "cell_type": "code",
   "execution_count": 215,
   "id": "c5edc92e",
   "metadata": {},
   "outputs": [
    {
     "data": {
      "text/plain": [
       "False"
      ]
     },
     "execution_count": 215,
     "metadata": {},
     "output_type": "execute_result"
    }
   ],
   "source": [
    "inds"
   ]
  },
  {
   "cell_type": "code",
   "execution_count": 219,
   "id": "b4d8f1e3",
   "metadata": {},
   "outputs": [
    {
     "name": "stdout",
     "output_type": "stream",
     "text": [
      "<class 'pandas.core.frame.DataFrame'>\n",
      "RangeIndex: 75825 entries, 0 to 75824\n",
      "Data columns (total 5 columns):\n",
      " #   Column        Non-Null Count  Dtype  \n",
      "---  ------        --------------  -----  \n",
      " 0   SALINITY      75825 non-null  float64\n",
      " 1   WATER_TEMP    75825 non-null  float64\n",
      " 2   SAMPLE_DEPTH  75803 non-null  float64\n",
      " 3   month         75825 non-null  int32  \n",
      " 4   year          75825 non-null  int32  \n",
      "dtypes: float64(3), int32(2)\n",
      "memory usage: 2.3 MB\n"
     ]
    }
   ],
   "source": [
    "features.info()"
   ]
  },
  {
   "cell_type": "code",
   "execution_count": null,
   "id": "975a27f9",
   "metadata": {},
   "outputs": [],
   "source": []
  },
  {
   "cell_type": "code",
   "execution_count": 212,
   "id": "5a5313a8",
   "metadata": {},
   "outputs": [
    {
     "ename": "ValueError",
     "evalue": "Found input variables with inconsistent numbers of samples: [75803, 75825]",
     "output_type": "error",
     "traceback": [
      "\u001b[1;31m---------------------------------------------------------------------------\u001b[0m",
      "\u001b[1;31mValueError\u001b[0m                                Traceback (most recent call last)",
      "Cell \u001b[1;32mIn[212], line 1\u001b[0m\n\u001b[1;32m----> 1\u001b[0m model\u001b[38;5;241m.\u001b[39mfit(features\u001b[38;5;241m.\u001b[39mdropna(), target\u001b[38;5;241m.\u001b[39mdropna())\n",
      "File \u001b[1;32mC:\\Anaconda3\\envs\\Aug6_2023new\\Lib\\site-packages\\sklearn\\base.py:1152\u001b[0m, in \u001b[0;36m_fit_context.<locals>.decorator.<locals>.wrapper\u001b[1;34m(estimator, *args, **kwargs)\u001b[0m\n\u001b[0;32m   1145\u001b[0m     estimator\u001b[38;5;241m.\u001b[39m_validate_params()\n\u001b[0;32m   1147\u001b[0m \u001b[38;5;28;01mwith\u001b[39;00m config_context(\n\u001b[0;32m   1148\u001b[0m     skip_parameter_validation\u001b[38;5;241m=\u001b[39m(\n\u001b[0;32m   1149\u001b[0m         prefer_skip_nested_validation \u001b[38;5;129;01mor\u001b[39;00m global_skip_validation\n\u001b[0;32m   1150\u001b[0m     )\n\u001b[0;32m   1151\u001b[0m ):\n\u001b[1;32m-> 1152\u001b[0m     \u001b[38;5;28;01mreturn\u001b[39;00m fit_method(estimator, \u001b[38;5;241m*\u001b[39margs, \u001b[38;5;241m*\u001b[39m\u001b[38;5;241m*\u001b[39mkwargs)\n",
      "File \u001b[1;32mC:\\Anaconda3\\envs\\Aug6_2023new\\Lib\\site-packages\\sklearn\\ensemble\\_forest.py:348\u001b[0m, in \u001b[0;36mBaseForest.fit\u001b[1;34m(self, X, y, sample_weight)\u001b[0m\n\u001b[0;32m    346\u001b[0m \u001b[38;5;28;01mif\u001b[39;00m issparse(y):\n\u001b[0;32m    347\u001b[0m     \u001b[38;5;28;01mraise\u001b[39;00m \u001b[38;5;167;01mValueError\u001b[39;00m(\u001b[38;5;124m\"\u001b[39m\u001b[38;5;124msparse multilabel-indicator for y is not supported.\u001b[39m\u001b[38;5;124m\"\u001b[39m)\n\u001b[1;32m--> 348\u001b[0m X, y \u001b[38;5;241m=\u001b[39m \u001b[38;5;28mself\u001b[39m\u001b[38;5;241m.\u001b[39m_validate_data(\n\u001b[0;32m    349\u001b[0m     X, y, multi_output\u001b[38;5;241m=\u001b[39m\u001b[38;5;28;01mTrue\u001b[39;00m, accept_sparse\u001b[38;5;241m=\u001b[39m\u001b[38;5;124m\"\u001b[39m\u001b[38;5;124mcsc\u001b[39m\u001b[38;5;124m\"\u001b[39m, dtype\u001b[38;5;241m=\u001b[39mDTYPE\n\u001b[0;32m    350\u001b[0m )\n\u001b[0;32m    351\u001b[0m \u001b[38;5;28;01mif\u001b[39;00m sample_weight \u001b[38;5;129;01mis\u001b[39;00m \u001b[38;5;129;01mnot\u001b[39;00m \u001b[38;5;28;01mNone\u001b[39;00m:\n\u001b[0;32m    352\u001b[0m     sample_weight \u001b[38;5;241m=\u001b[39m _check_sample_weight(sample_weight, X)\n",
      "File \u001b[1;32mC:\\Anaconda3\\envs\\Aug6_2023new\\Lib\\site-packages\\sklearn\\base.py:622\u001b[0m, in \u001b[0;36mBaseEstimator._validate_data\u001b[1;34m(self, X, y, reset, validate_separately, cast_to_ndarray, **check_params)\u001b[0m\n\u001b[0;32m    620\u001b[0m         y \u001b[38;5;241m=\u001b[39m check_array(y, input_name\u001b[38;5;241m=\u001b[39m\u001b[38;5;124m\"\u001b[39m\u001b[38;5;124my\u001b[39m\u001b[38;5;124m\"\u001b[39m, \u001b[38;5;241m*\u001b[39m\u001b[38;5;241m*\u001b[39mcheck_y_params)\n\u001b[0;32m    621\u001b[0m     \u001b[38;5;28;01melse\u001b[39;00m:\n\u001b[1;32m--> 622\u001b[0m         X, y \u001b[38;5;241m=\u001b[39m check_X_y(X, y, \u001b[38;5;241m*\u001b[39m\u001b[38;5;241m*\u001b[39mcheck_params)\n\u001b[0;32m    623\u001b[0m     out \u001b[38;5;241m=\u001b[39m X, y\n\u001b[0;32m    625\u001b[0m \u001b[38;5;28;01mif\u001b[39;00m \u001b[38;5;129;01mnot\u001b[39;00m no_val_X \u001b[38;5;129;01mand\u001b[39;00m check_params\u001b[38;5;241m.\u001b[39mget(\u001b[38;5;124m\"\u001b[39m\u001b[38;5;124mensure_2d\u001b[39m\u001b[38;5;124m\"\u001b[39m, \u001b[38;5;28;01mTrue\u001b[39;00m):\n",
      "File \u001b[1;32mC:\\Anaconda3\\envs\\Aug6_2023new\\Lib\\site-packages\\sklearn\\utils\\validation.py:1164\u001b[0m, in \u001b[0;36mcheck_X_y\u001b[1;34m(X, y, accept_sparse, accept_large_sparse, dtype, order, copy, force_all_finite, ensure_2d, allow_nd, multi_output, ensure_min_samples, ensure_min_features, y_numeric, estimator)\u001b[0m\n\u001b[0;32m   1146\u001b[0m X \u001b[38;5;241m=\u001b[39m check_array(\n\u001b[0;32m   1147\u001b[0m     X,\n\u001b[0;32m   1148\u001b[0m     accept_sparse\u001b[38;5;241m=\u001b[39maccept_sparse,\n\u001b[1;32m   (...)\u001b[0m\n\u001b[0;32m   1159\u001b[0m     input_name\u001b[38;5;241m=\u001b[39m\u001b[38;5;124m\"\u001b[39m\u001b[38;5;124mX\u001b[39m\u001b[38;5;124m\"\u001b[39m,\n\u001b[0;32m   1160\u001b[0m )\n\u001b[0;32m   1162\u001b[0m y \u001b[38;5;241m=\u001b[39m _check_y(y, multi_output\u001b[38;5;241m=\u001b[39mmulti_output, y_numeric\u001b[38;5;241m=\u001b[39my_numeric, estimator\u001b[38;5;241m=\u001b[39mestimator)\n\u001b[1;32m-> 1164\u001b[0m check_consistent_length(X, y)\n\u001b[0;32m   1166\u001b[0m \u001b[38;5;28;01mreturn\u001b[39;00m X, y\n",
      "File \u001b[1;32mC:\\Anaconda3\\envs\\Aug6_2023new\\Lib\\site-packages\\sklearn\\utils\\validation.py:407\u001b[0m, in \u001b[0;36mcheck_consistent_length\u001b[1;34m(*arrays)\u001b[0m\n\u001b[0;32m    405\u001b[0m uniques \u001b[38;5;241m=\u001b[39m np\u001b[38;5;241m.\u001b[39munique(lengths)\n\u001b[0;32m    406\u001b[0m \u001b[38;5;28;01mif\u001b[39;00m \u001b[38;5;28mlen\u001b[39m(uniques) \u001b[38;5;241m>\u001b[39m \u001b[38;5;241m1\u001b[39m:\n\u001b[1;32m--> 407\u001b[0m     \u001b[38;5;28;01mraise\u001b[39;00m \u001b[38;5;167;01mValueError\u001b[39;00m(\n\u001b[0;32m    408\u001b[0m         \u001b[38;5;124m\"\u001b[39m\u001b[38;5;124mFound input variables with inconsistent numbers of samples: \u001b[39m\u001b[38;5;132;01m%r\u001b[39;00m\u001b[38;5;124m\"\u001b[39m\n\u001b[0;32m    409\u001b[0m         \u001b[38;5;241m%\u001b[39m [\u001b[38;5;28mint\u001b[39m(l) \u001b[38;5;28;01mfor\u001b[39;00m l \u001b[38;5;129;01min\u001b[39;00m lengths]\n\u001b[0;32m    410\u001b[0m     )\n",
      "\u001b[1;31mValueError\u001b[0m: Found input variables with inconsistent numbers of samples: [75803, 75825]"
     ]
    }
   ],
   "source": [
    "model.fit(features.dropna(), target.dropna())"
   ]
  },
  {
   "cell_type": "code",
   "execution_count": null,
   "id": "e08ee68d",
   "metadata": {},
   "outputs": [],
   "source": [
    "predictiontree = model.predict(treeab2test[['SALINITY', 'WATER_TEMP', 'SAMPLE_DEPTH','day','month','year']])"
   ]
  },
  {
   "cell_type": "code",
   "execution_count": null,
   "id": "e15629c5",
   "metadata": {},
   "outputs": [],
   "source": [
    "plt.plot(testab2.index,testab2.CELLCOUNT/scale,'b',label='Test Data')\n",
    "plt.plot(testab2.index, predictiontree,'r',label='Forecast')\n",
    "plt.xlabel('Date')\n",
    "plt.ylabel('Cell Count')\n",
    "plt.show()\n",
    "plt.close()"
   ]
  },
  {
   "cell_type": "code",
   "execution_count": null,
   "id": "051699ec",
   "metadata": {},
   "outputs": [],
   "source": [
    "print('Root Mean Square is ', \"{:e}\".format(mse(testab2.CELLCOUNT, predictiontree, squared=False)))"
   ]
  },
  {
   "cell_type": "code",
   "execution_count": 197,
   "id": "6a0575d6",
   "metadata": {},
   "outputs": [
    {
     "data": {
      "text/html": [
       "<div>\n",
       "<style scoped>\n",
       "    .dataframe tbody tr th:only-of-type {\n",
       "        vertical-align: middle;\n",
       "    }\n",
       "\n",
       "    .dataframe tbody tr th {\n",
       "        vertical-align: top;\n",
       "    }\n",
       "\n",
       "    .dataframe thead th {\n",
       "        text-align: right;\n",
       "    }\n",
       "</style>\n",
       "<table border=\"1\" class=\"dataframe\">\n",
       "  <thead>\n",
       "    <tr style=\"text-align: right;\">\n",
       "      <th></th>\n",
       "      <th>STATE_ID</th>\n",
       "      <th>DESCRIPTION</th>\n",
       "      <th>LATITUDE</th>\n",
       "      <th>LONGITUDE</th>\n",
       "      <th>SAMPLE_DEPTH</th>\n",
       "      <th>GENUS</th>\n",
       "      <th>SPECIES</th>\n",
       "      <th>CATEGORY</th>\n",
       "      <th>CELLCOUNT</th>\n",
       "      <th>CELLCOUNT_UNIT</th>\n",
       "      <th>...</th>\n",
       "      <th>SALINITY_QA</th>\n",
       "      <th>WATER_TEMP</th>\n",
       "      <th>WATER_TEMP_UNIT</th>\n",
       "      <th>WATER_TEMP_QA</th>\n",
       "      <th>WIND_DIR</th>\n",
       "      <th>WIND_DIR_UNIT</th>\n",
       "      <th>WIND_DIR_QA</th>\n",
       "      <th>WIND_SPEED</th>\n",
       "      <th>WIND_SPEED_UNIT</th>\n",
       "      <th>WIND_SPEED_QA</th>\n",
       "    </tr>\n",
       "    <tr>\n",
       "      <th>SAMPLE_DATE</th>\n",
       "      <th></th>\n",
       "      <th></th>\n",
       "      <th></th>\n",
       "      <th></th>\n",
       "      <th></th>\n",
       "      <th></th>\n",
       "      <th></th>\n",
       "      <th></th>\n",
       "      <th></th>\n",
       "      <th></th>\n",
       "      <th></th>\n",
       "      <th></th>\n",
       "      <th></th>\n",
       "      <th></th>\n",
       "      <th></th>\n",
       "      <th></th>\n",
       "      <th></th>\n",
       "      <th></th>\n",
       "      <th></th>\n",
       "      <th></th>\n",
       "      <th></th>\n",
       "    </tr>\n",
       "  </thead>\n",
       "  <tbody>\n",
       "    <tr>\n",
       "      <th>1954-02-05 08:55:00</th>\n",
       "      <td>FL</td>\n",
       "      <td>Station A 45; USFWS 1954-57</td>\n",
       "      <td>27.21670</td>\n",
       "      <td>-82.54170</td>\n",
       "      <td>0.5</td>\n",
       "      <td>Karenia</td>\n",
       "      <td>brevis</td>\n",
       "      <td>not observed</td>\n",
       "      <td>0</td>\n",
       "      <td>cells/L</td>\n",
       "      <td>...</td>\n",
       "      <td>1</td>\n",
       "      <td>18.00</td>\n",
       "      <td>deg. C</td>\n",
       "      <td>1.0</td>\n",
       "      <td>NaN</td>\n",
       "      <td>NaN</td>\n",
       "      <td>9.0</td>\n",
       "      <td>NaN</td>\n",
       "      <td>NaN</td>\n",
       "      <td>9.0</td>\n",
       "    </tr>\n",
       "    <tr>\n",
       "      <th>1954-02-05 09:35:00</th>\n",
       "      <td>FL</td>\n",
       "      <td>Station A 50; USFWS 1954-57</td>\n",
       "      <td>27.15000</td>\n",
       "      <td>-82.50830</td>\n",
       "      <td>0.5</td>\n",
       "      <td>Karenia</td>\n",
       "      <td>brevis</td>\n",
       "      <td>not observed</td>\n",
       "      <td>0</td>\n",
       "      <td>cells/L</td>\n",
       "      <td>...</td>\n",
       "      <td>1</td>\n",
       "      <td>18.20</td>\n",
       "      <td>deg. C</td>\n",
       "      <td>1.0</td>\n",
       "      <td>NaN</td>\n",
       "      <td>NaN</td>\n",
       "      <td>9.0</td>\n",
       "      <td>NaN</td>\n",
       "      <td>NaN</td>\n",
       "      <td>9.0</td>\n",
       "    </tr>\n",
       "    <tr>\n",
       "      <th>1954-02-05 11:35:00</th>\n",
       "      <td>FL</td>\n",
       "      <td>Station A 38; USFWS 1954-57</td>\n",
       "      <td>27.35330</td>\n",
       "      <td>-82.64500</td>\n",
       "      <td>0.5</td>\n",
       "      <td>Karenia</td>\n",
       "      <td>brevis</td>\n",
       "      <td>not observed</td>\n",
       "      <td>0</td>\n",
       "      <td>cells/L</td>\n",
       "      <td>...</td>\n",
       "      <td>1</td>\n",
       "      <td>18.50</td>\n",
       "      <td>deg. C</td>\n",
       "      <td>1.0</td>\n",
       "      <td>NaN</td>\n",
       "      <td>NaN</td>\n",
       "      <td>9.0</td>\n",
       "      <td>NaN</td>\n",
       "      <td>NaN</td>\n",
       "      <td>9.0</td>\n",
       "    </tr>\n",
       "    <tr>\n",
       "      <th>1954-02-05 11:52:00</th>\n",
       "      <td>FL</td>\n",
       "      <td>Station A 37; USFWS 1954-57</td>\n",
       "      <td>27.34170</td>\n",
       "      <td>-82.71670</td>\n",
       "      <td>0.5</td>\n",
       "      <td>Karenia</td>\n",
       "      <td>brevis</td>\n",
       "      <td>not observed</td>\n",
       "      <td>0</td>\n",
       "      <td>cells/L</td>\n",
       "      <td>...</td>\n",
       "      <td>1</td>\n",
       "      <td>18.50</td>\n",
       "      <td>deg. C</td>\n",
       "      <td>1.0</td>\n",
       "      <td>NaN</td>\n",
       "      <td>NaN</td>\n",
       "      <td>9.0</td>\n",
       "      <td>NaN</td>\n",
       "      <td>NaN</td>\n",
       "      <td>9.0</td>\n",
       "    </tr>\n",
       "    <tr>\n",
       "      <th>1954-02-05 12:10:00</th>\n",
       "      <td>FL</td>\n",
       "      <td>Station A 41; USFWS 1954-57</td>\n",
       "      <td>27.30830</td>\n",
       "      <td>-82.59670</td>\n",
       "      <td>0.5</td>\n",
       "      <td>Karenia</td>\n",
       "      <td>brevis</td>\n",
       "      <td>not observed</td>\n",
       "      <td>0</td>\n",
       "      <td>cells/L</td>\n",
       "      <td>...</td>\n",
       "      <td>1</td>\n",
       "      <td>18.60</td>\n",
       "      <td>deg. C</td>\n",
       "      <td>1.0</td>\n",
       "      <td>NaN</td>\n",
       "      <td>NaN</td>\n",
       "      <td>9.0</td>\n",
       "      <td>NaN</td>\n",
       "      <td>NaN</td>\n",
       "      <td>9.0</td>\n",
       "    </tr>\n",
       "    <tr>\n",
       "      <th>...</th>\n",
       "      <td>...</td>\n",
       "      <td>...</td>\n",
       "      <td>...</td>\n",
       "      <td>...</td>\n",
       "      <td>...</td>\n",
       "      <td>...</td>\n",
       "      <td>...</td>\n",
       "      <td>...</td>\n",
       "      <td>...</td>\n",
       "      <td>...</td>\n",
       "      <td>...</td>\n",
       "      <td>...</td>\n",
       "      <td>...</td>\n",
       "      <td>...</td>\n",
       "      <td>...</td>\n",
       "      <td>...</td>\n",
       "      <td>...</td>\n",
       "      <td>...</td>\n",
       "      <td>...</td>\n",
       "      <td>...</td>\n",
       "      <td>...</td>\n",
       "    </tr>\n",
       "    <tr>\n",
       "      <th>2019-12-30 19:25:00</th>\n",
       "      <td>FL</td>\n",
       "      <td>La Contessa Pier</td>\n",
       "      <td>27.81210</td>\n",
       "      <td>-82.81915</td>\n",
       "      <td>0.5</td>\n",
       "      <td>Karenia</td>\n",
       "      <td>brevis</td>\n",
       "      <td>not observed</td>\n",
       "      <td>0</td>\n",
       "      <td>cells/L</td>\n",
       "      <td>...</td>\n",
       "      <td>1</td>\n",
       "      <td>21.14</td>\n",
       "      <td>deg. C</td>\n",
       "      <td>1.0</td>\n",
       "      <td>NaN</td>\n",
       "      <td>NaN</td>\n",
       "      <td>9.0</td>\n",
       "      <td>NaN</td>\n",
       "      <td>NaN</td>\n",
       "      <td>9.0</td>\n",
       "    </tr>\n",
       "    <tr>\n",
       "      <th>2019-12-30 20:27:00</th>\n",
       "      <td>FL</td>\n",
       "      <td>Mullet Key; Gulf Pier</td>\n",
       "      <td>27.61330</td>\n",
       "      <td>-82.73910</td>\n",
       "      <td>0.5</td>\n",
       "      <td>Karenia</td>\n",
       "      <td>brevis</td>\n",
       "      <td>not observed</td>\n",
       "      <td>0</td>\n",
       "      <td>cells/L</td>\n",
       "      <td>...</td>\n",
       "      <td>1</td>\n",
       "      <td>21.20</td>\n",
       "      <td>deg. C</td>\n",
       "      <td>1.0</td>\n",
       "      <td>NaN</td>\n",
       "      <td>NaN</td>\n",
       "      <td>9.0</td>\n",
       "      <td>NaN</td>\n",
       "      <td>NaN</td>\n",
       "      <td>9.0</td>\n",
       "    </tr>\n",
       "    <tr>\n",
       "      <th>2019-12-30 20:56:00</th>\n",
       "      <td>FL</td>\n",
       "      <td>Wallace Cove (Boca Ciega Bay)</td>\n",
       "      <td>27.71170</td>\n",
       "      <td>-82.69014</td>\n",
       "      <td>0.5</td>\n",
       "      <td>Karenia</td>\n",
       "      <td>brevis</td>\n",
       "      <td>not observed</td>\n",
       "      <td>0</td>\n",
       "      <td>cells/L</td>\n",
       "      <td>...</td>\n",
       "      <td>1</td>\n",
       "      <td>21.86</td>\n",
       "      <td>deg. C</td>\n",
       "      <td>1.0</td>\n",
       "      <td>NaN</td>\n",
       "      <td>NaN</td>\n",
       "      <td>9.0</td>\n",
       "      <td>NaN</td>\n",
       "      <td>NaN</td>\n",
       "      <td>9.0</td>\n",
       "    </tr>\n",
       "    <tr>\n",
       "      <th>2019-12-31 13:00:00</th>\n",
       "      <td>FL</td>\n",
       "      <td>Harbor Pointe Marina (Indian River)</td>\n",
       "      <td>28.61573</td>\n",
       "      <td>-80.80228</td>\n",
       "      <td>0.5</td>\n",
       "      <td>Karenia</td>\n",
       "      <td>brevis</td>\n",
       "      <td>not observed</td>\n",
       "      <td>0</td>\n",
       "      <td>cells/L</td>\n",
       "      <td>...</td>\n",
       "      <td>1</td>\n",
       "      <td>23.00</td>\n",
       "      <td>deg. C</td>\n",
       "      <td>1.0</td>\n",
       "      <td>NaN</td>\n",
       "      <td>NaN</td>\n",
       "      <td>9.0</td>\n",
       "      <td>NaN</td>\n",
       "      <td>NaN</td>\n",
       "      <td>9.0</td>\n",
       "    </tr>\n",
       "    <tr>\n",
       "      <th>2019-12-31 16:00:00</th>\n",
       "      <td>FL</td>\n",
       "      <td>River Breeze Park Boat Ramp (Mosquito Lagoon)</td>\n",
       "      <td>28.89853</td>\n",
       "      <td>-80.85167</td>\n",
       "      <td>1.0</td>\n",
       "      <td>Karenia</td>\n",
       "      <td>brevis</td>\n",
       "      <td>not observed</td>\n",
       "      <td>0</td>\n",
       "      <td>cells/L</td>\n",
       "      <td>...</td>\n",
       "      <td>1</td>\n",
       "      <td>20.00</td>\n",
       "      <td>deg. C</td>\n",
       "      <td>1.0</td>\n",
       "      <td>NaN</td>\n",
       "      <td>NaN</td>\n",
       "      <td>9.0</td>\n",
       "      <td>NaN</td>\n",
       "      <td>NaN</td>\n",
       "      <td>9.0</td>\n",
       "    </tr>\n",
       "  </tbody>\n",
       "</table>\n",
       "<p>75825 rows × 23 columns</p>\n",
       "</div>"
      ],
      "text/plain": [
       "                    STATE_ID                                    DESCRIPTION  \\\n",
       "SAMPLE_DATE                                                                   \n",
       "1954-02-05 08:55:00       FL                    Station A 45; USFWS 1954-57   \n",
       "1954-02-05 09:35:00       FL                    Station A 50; USFWS 1954-57   \n",
       "1954-02-05 11:35:00       FL                    Station A 38; USFWS 1954-57   \n",
       "1954-02-05 11:52:00       FL                    Station A 37; USFWS 1954-57   \n",
       "1954-02-05 12:10:00       FL                    Station A 41; USFWS 1954-57   \n",
       "...                      ...                                            ...   \n",
       "2019-12-30 19:25:00       FL                               La Contessa Pier   \n",
       "2019-12-30 20:27:00       FL                          Mullet Key; Gulf Pier   \n",
       "2019-12-30 20:56:00       FL                  Wallace Cove (Boca Ciega Bay)   \n",
       "2019-12-31 13:00:00       FL            Harbor Pointe Marina (Indian River)   \n",
       "2019-12-31 16:00:00       FL  River Breeze Park Boat Ramp (Mosquito Lagoon)   \n",
       "\n",
       "                     LATITUDE  LONGITUDE  SAMPLE_DEPTH    GENUS SPECIES  \\\n",
       "SAMPLE_DATE                                                               \n",
       "1954-02-05 08:55:00  27.21670  -82.54170           0.5  Karenia  brevis   \n",
       "1954-02-05 09:35:00  27.15000  -82.50830           0.5  Karenia  brevis   \n",
       "1954-02-05 11:35:00  27.35330  -82.64500           0.5  Karenia  brevis   \n",
       "1954-02-05 11:52:00  27.34170  -82.71670           0.5  Karenia  brevis   \n",
       "1954-02-05 12:10:00  27.30830  -82.59670           0.5  Karenia  brevis   \n",
       "...                       ...        ...           ...      ...     ...   \n",
       "2019-12-30 19:25:00  27.81210  -82.81915           0.5  Karenia  brevis   \n",
       "2019-12-30 20:27:00  27.61330  -82.73910           0.5  Karenia  brevis   \n",
       "2019-12-30 20:56:00  27.71170  -82.69014           0.5  Karenia  brevis   \n",
       "2019-12-31 13:00:00  28.61573  -80.80228           0.5  Karenia  brevis   \n",
       "2019-12-31 16:00:00  28.89853  -80.85167           1.0  Karenia  brevis   \n",
       "\n",
       "                         CATEGORY  CELLCOUNT CELLCOUNT_UNIT  ...  SALINITY_QA  \\\n",
       "SAMPLE_DATE                                                  ...                \n",
       "1954-02-05 08:55:00  not observed          0        cells/L  ...            1   \n",
       "1954-02-05 09:35:00  not observed          0        cells/L  ...            1   \n",
       "1954-02-05 11:35:00  not observed          0        cells/L  ...            1   \n",
       "1954-02-05 11:52:00  not observed          0        cells/L  ...            1   \n",
       "1954-02-05 12:10:00  not observed          0        cells/L  ...            1   \n",
       "...                           ...        ...            ...  ...          ...   \n",
       "2019-12-30 19:25:00  not observed          0        cells/L  ...            1   \n",
       "2019-12-30 20:27:00  not observed          0        cells/L  ...            1   \n",
       "2019-12-30 20:56:00  not observed          0        cells/L  ...            1   \n",
       "2019-12-31 13:00:00  not observed          0        cells/L  ...            1   \n",
       "2019-12-31 16:00:00  not observed          0        cells/L  ...            1   \n",
       "\n",
       "                     WATER_TEMP WATER_TEMP_UNIT  WATER_TEMP_QA  WIND_DIR  \\\n",
       "SAMPLE_DATE                                                                \n",
       "1954-02-05 08:55:00       18.00          deg. C            1.0       NaN   \n",
       "1954-02-05 09:35:00       18.20          deg. C            1.0       NaN   \n",
       "1954-02-05 11:35:00       18.50          deg. C            1.0       NaN   \n",
       "1954-02-05 11:52:00       18.50          deg. C            1.0       NaN   \n",
       "1954-02-05 12:10:00       18.60          deg. C            1.0       NaN   \n",
       "...                         ...             ...            ...       ...   \n",
       "2019-12-30 19:25:00       21.14          deg. C            1.0       NaN   \n",
       "2019-12-30 20:27:00       21.20          deg. C            1.0       NaN   \n",
       "2019-12-30 20:56:00       21.86          deg. C            1.0       NaN   \n",
       "2019-12-31 13:00:00       23.00          deg. C            1.0       NaN   \n",
       "2019-12-31 16:00:00       20.00          deg. C            1.0       NaN   \n",
       "\n",
       "                    WIND_DIR_UNIT  WIND_DIR_QA WIND_SPEED WIND_SPEED_UNIT  \\\n",
       "SAMPLE_DATE                                                                 \n",
       "1954-02-05 08:55:00           NaN          9.0        NaN             NaN   \n",
       "1954-02-05 09:35:00           NaN          9.0        NaN             NaN   \n",
       "1954-02-05 11:35:00           NaN          9.0        NaN             NaN   \n",
       "1954-02-05 11:52:00           NaN          9.0        NaN             NaN   \n",
       "1954-02-05 12:10:00           NaN          9.0        NaN             NaN   \n",
       "...                           ...          ...        ...             ...   \n",
       "2019-12-30 19:25:00           NaN          9.0        NaN             NaN   \n",
       "2019-12-30 20:27:00           NaN          9.0        NaN             NaN   \n",
       "2019-12-30 20:56:00           NaN          9.0        NaN             NaN   \n",
       "2019-12-31 13:00:00           NaN          9.0        NaN             NaN   \n",
       "2019-12-31 16:00:00           NaN          9.0        NaN             NaN   \n",
       "\n",
       "                     WIND_SPEED_QA  \n",
       "SAMPLE_DATE                         \n",
       "1954-02-05 08:55:00            9.0  \n",
       "1954-02-05 09:35:00            9.0  \n",
       "1954-02-05 11:35:00            9.0  \n",
       "1954-02-05 11:52:00            9.0  \n",
       "1954-02-05 12:10:00            9.0  \n",
       "...                            ...  \n",
       "2019-12-30 19:25:00            9.0  \n",
       "2019-12-30 20:27:00            9.0  \n",
       "2019-12-30 20:56:00            9.0  \n",
       "2019-12-31 13:00:00            9.0  \n",
       "2019-12-31 16:00:00            9.0  \n",
       "\n",
       "[75825 rows x 23 columns]"
      ]
     },
     "execution_count": 197,
     "metadata": {},
     "output_type": "execute_result"
    }
   ],
   "source": [
    "trainab3"
   ]
  },
  {
   "cell_type": "code",
   "execution_count": 206,
   "id": "1cd35a07",
   "metadata": {},
   "outputs": [
    {
     "name": "stdout",
     "output_type": "stream",
     "text": [
      "<class 'pandas.core.frame.DataFrame'>\n",
      "RangeIndex: 75825 entries, 0 to 75824\n",
      "Data columns (total 6 columns):\n",
      " #   Column        Non-Null Count  Dtype  \n",
      "---  ------        --------------  -----  \n",
      " 0   SALINITY      75825 non-null  float64\n",
      " 1   WATER_TEMP    75825 non-null  float64\n",
      " 2   SAMPLE_DEPTH  75803 non-null  float64\n",
      " 3   day           75825 non-null  int32  \n",
      " 4   month         75825 non-null  int32  \n",
      " 5   year          75825 non-null  int32  \n",
      "dtypes: float64(3), int32(3)\n",
      "memory usage: 2.6 MB\n"
     ]
    }
   ],
   "source": [
    "features.info()"
   ]
  },
  {
   "cell_type": "code",
   "execution_count": null,
   "id": "4b4be937",
   "metadata": {},
   "outputs": [],
   "source": []
  }
 ],
 "metadata": {
  "kernelspec": {
   "display_name": "Python 3 (ipykernel)",
   "language": "python",
   "name": "python3"
  },
  "language_info": {
   "codemirror_mode": {
    "name": "ipython",
    "version": 3
   },
   "file_extension": ".py",
   "mimetype": "text/x-python",
   "name": "python",
   "nbconvert_exporter": "python",
   "pygments_lexer": "ipython3",
   "version": "3.11.4"
  }
 },
 "nbformat": 4,
 "nbformat_minor": 5
}
